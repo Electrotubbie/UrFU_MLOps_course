{
 "cells": [
  {
   "cell_type": "code",
   "execution_count": 1,
   "id": "2358b658",
   "metadata": {},
   "outputs": [],
   "source": [
    "import pandas as pd\n",
    "import seaborn as sns\n",
    "import numpy as np\n",
    "\n",
    "from sklearn.linear_model import LinearRegression\n",
    "from sklearn.metrics import mean_absolute_error, r2_score\n",
    "\n",
    "from sklearn.pipeline import Pipeline\n",
    "from sklearn.compose import ColumnTransformer\n",
    "from sklearn.preprocessing import StandardScaler, OneHotEncoder\n",
    "\n",
    "import joblib\n",
    "seed = 11"
   ]
  },
  {
   "cell_type": "code",
   "execution_count": 2,
   "id": "67ea4b9d",
   "metadata": {},
   "outputs": [
    {
     "data": {
      "text/html": [
       "<div>\n",
       "<style scoped>\n",
       "    .dataframe tbody tr th:only-of-type {\n",
       "        vertical-align: middle;\n",
       "    }\n",
       "\n",
       "    .dataframe tbody tr th {\n",
       "        vertical-align: top;\n",
       "    }\n",
       "\n",
       "    .dataframe thead th {\n",
       "        text-align: right;\n",
       "    }\n",
       "</style>\n",
       "<table border=\"1\" class=\"dataframe\">\n",
       "  <thead>\n",
       "    <tr style=\"text-align: right;\">\n",
       "      <th></th>\n",
       "      <th>carat</th>\n",
       "      <th>cut</th>\n",
       "      <th>price</th>\n",
       "      <th>x</th>\n",
       "      <th>y</th>\n",
       "      <th>z</th>\n",
       "    </tr>\n",
       "  </thead>\n",
       "  <tbody>\n",
       "    <tr>\n",
       "      <th>0</th>\n",
       "      <td>1.51</td>\n",
       "      <td>Fair</td>\n",
       "      <td>5750</td>\n",
       "      <td>7.16</td>\n",
       "      <td>7.12</td>\n",
       "      <td>4.65</td>\n",
       "    </tr>\n",
       "    <tr>\n",
       "      <th>1</th>\n",
       "      <td>0.31</td>\n",
       "      <td>Premium</td>\n",
       "      <td>698</td>\n",
       "      <td>4.40</td>\n",
       "      <td>4.38</td>\n",
       "      <td>2.63</td>\n",
       "    </tr>\n",
       "    <tr>\n",
       "      <th>2</th>\n",
       "      <td>0.33</td>\n",
       "      <td>Ideal</td>\n",
       "      <td>427</td>\n",
       "      <td>4.44</td>\n",
       "      <td>4.46</td>\n",
       "      <td>2.77</td>\n",
       "    </tr>\n",
       "    <tr>\n",
       "      <th>3</th>\n",
       "      <td>0.28</td>\n",
       "      <td>Ideal</td>\n",
       "      <td>625</td>\n",
       "      <td>4.24</td>\n",
       "      <td>4.20</td>\n",
       "      <td>2.59</td>\n",
       "    </tr>\n",
       "    <tr>\n",
       "      <th>4</th>\n",
       "      <td>0.34</td>\n",
       "      <td>Ideal</td>\n",
       "      <td>765</td>\n",
       "      <td>4.50</td>\n",
       "      <td>4.48</td>\n",
       "      <td>2.74</td>\n",
       "    </tr>\n",
       "    <tr>\n",
       "      <th>...</th>\n",
       "      <td>...</td>\n",
       "      <td>...</td>\n",
       "      <td>...</td>\n",
       "      <td>...</td>\n",
       "      <td>...</td>\n",
       "      <td>...</td>\n",
       "    </tr>\n",
       "    <tr>\n",
       "      <th>53935</th>\n",
       "      <td>0.33</td>\n",
       "      <td>Very Good</td>\n",
       "      <td>781</td>\n",
       "      <td>4.43</td>\n",
       "      <td>4.46</td>\n",
       "      <td>2.74</td>\n",
       "    </tr>\n",
       "    <tr>\n",
       "      <th>53936</th>\n",
       "      <td>0.90</td>\n",
       "      <td>Ideal</td>\n",
       "      <td>4198</td>\n",
       "      <td>6.24</td>\n",
       "      <td>6.18</td>\n",
       "      <td>3.82</td>\n",
       "    </tr>\n",
       "    <tr>\n",
       "      <th>53937</th>\n",
       "      <td>1.45</td>\n",
       "      <td>Very Good</td>\n",
       "      <td>9683</td>\n",
       "      <td>7.32</td>\n",
       "      <td>7.41</td>\n",
       "      <td>4.46</td>\n",
       "    </tr>\n",
       "    <tr>\n",
       "      <th>53938</th>\n",
       "      <td>0.40</td>\n",
       "      <td>Ideal</td>\n",
       "      <td>945</td>\n",
       "      <td>4.70</td>\n",
       "      <td>4.68</td>\n",
       "      <td>2.95</td>\n",
       "    </tr>\n",
       "    <tr>\n",
       "      <th>53939</th>\n",
       "      <td>1.00</td>\n",
       "      <td>Good</td>\n",
       "      <td>4722</td>\n",
       "      <td>6.25</td>\n",
       "      <td>6.21</td>\n",
       "      <td>3.96</td>\n",
       "    </tr>\n",
       "  </tbody>\n",
       "</table>\n",
       "<p>53940 rows × 6 columns</p>\n",
       "</div>"
      ],
      "text/plain": [
       "       carat        cut  price     x     y     z\n",
       "0       1.51       Fair   5750  7.16  7.12  4.65\n",
       "1       0.31    Premium    698  4.40  4.38  2.63\n",
       "2       0.33      Ideal    427  4.44  4.46  2.77\n",
       "3       0.28      Ideal    625  4.24  4.20  2.59\n",
       "4       0.34      Ideal    765  4.50  4.48  2.74\n",
       "...      ...        ...    ...   ...   ...   ...\n",
       "53935   0.33  Very Good    781  4.43  4.46  2.74\n",
       "53936   0.90      Ideal   4198  6.24  6.18  3.82\n",
       "53937   1.45  Very Good   9683  7.32  7.41  4.46\n",
       "53938   0.40      Ideal    945  4.70  4.68  2.95\n",
       "53939   1.00       Good   4722  6.25  6.21  3.96\n",
       "\n",
       "[53940 rows x 6 columns]"
      ]
     },
     "execution_count": 2,
     "metadata": {},
     "output_type": "execute_result"
    }
   ],
   "source": [
    "# Считываем данные\n",
    "np.random.seed(seed)\n",
    "df = sns.load_dataset('diamonds').drop(columns=[\"color\", \"clarity\", \"depth\", \"table\"])\n",
    "df = df.sample(df.shape[0], ignore_index=True)\n",
    "df"
   ]
  },
  {
   "cell_type": "code",
   "execution_count": 3,
   "id": "d70ebc44",
   "metadata": {},
   "outputs": [
    {
     "name": "stdout",
     "output_type": "stream",
     "text": [
      "<class 'pandas.core.frame.DataFrame'>\n",
      "RangeIndex: 53940 entries, 0 to 53939\n",
      "Data columns (total 6 columns):\n",
      " #   Column  Non-Null Count  Dtype   \n",
      "---  ------  --------------  -----   \n",
      " 0   carat   53940 non-null  float64 \n",
      " 1   cut     53940 non-null  category\n",
      " 2   price   53940 non-null  int64   \n",
      " 3   x       53940 non-null  float64 \n",
      " 4   y       53940 non-null  float64 \n",
      " 5   z       53940 non-null  float64 \n",
      "dtypes: category(1), float64(4), int64(1)\n",
      "memory usage: 2.1 MB\n"
     ]
    }
   ],
   "source": [
    "# Смотрим информацию: тип данных и количество пропусков\n",
    "df.info()"
   ]
  },
  {
   "cell_type": "code",
   "execution_count": 4,
   "id": "55449a17",
   "metadata": {},
   "outputs": [
    {
     "data": {
      "text/plain": [
       "carat    0\n",
       "cut      0\n",
       "price    0\n",
       "x        0\n",
       "y        0\n",
       "z        0\n",
       "dtype: int64"
      ]
     },
     "execution_count": 4,
     "metadata": {},
     "output_type": "execute_result"
    }
   ],
   "source": [
    "# Смотрим количество пропусков в датасете\n",
    "df.isna().sum()"
   ]
  },
  {
   "cell_type": "code",
   "execution_count": 5,
   "id": "f53ff634",
   "metadata": {},
   "outputs": [
    {
     "data": {
      "text/plain": [
       "457"
      ]
     },
     "execution_count": 5,
     "metadata": {},
     "output_type": "execute_result"
    }
   ],
   "source": [
    "# Наблюдаем количество дубликатов\n",
    "df.duplicated().sum()"
   ]
  },
  {
   "cell_type": "code",
   "execution_count": 6,
   "id": "2ed718eb",
   "metadata": {},
   "outputs": [
    {
     "data": {
      "text/plain": [
       "(53483, 6)"
      ]
     },
     "execution_count": 6,
     "metadata": {},
     "output_type": "execute_result"
    }
   ],
   "source": [
    "# Удаляем дубликаты\n",
    "df = df.drop_duplicates(ignore_index=True)\n",
    "df.shape"
   ]
  },
  {
   "cell_type": "code",
   "execution_count": 7,
   "id": "653626a3-402e-4455-a2fd-51893ac60b8d",
   "metadata": {},
   "outputs": [
    {
     "name": "stderr",
     "output_type": "stream",
     "text": [
      "C:\\Users\\Andrew\\AppData\\Local\\Temp\\ipykernel_25700\\1676052500.py:3: SettingWithCopyWarning: \n",
      "A value is trying to be set on a copy of a slice from a DataFrame\n",
      "\n",
      "See the caveats in the documentation: https://pandas.pydata.org/pandas-docs/stable/user_guide/indexing.html#returning-a-view-versus-a-copy\n",
      "  df.drop(zero_vals, inplace=True)\n"
     ]
    }
   ],
   "source": [
    "# Удалим строки с 0 значениями\n",
    "zero_vals = df[(df == 0).max(axis=1)].index\n",
    "df.drop(zero_vals, inplace=True)"
   ]
  },
  {
   "cell_type": "code",
   "execution_count": 8,
   "id": "a41658b1",
   "metadata": {},
   "outputs": [
    {
     "name": "stdout",
     "output_type": "stream",
     "text": [
      "Категориальные данные:\t  ['cut'] \n",
      " Число столблцов =  1\n",
      "Числовые данные:\t  ['carat', 'price', 'x', 'y', 'z'] \n",
      " Число столблцов =  5\n"
     ]
    }
   ],
   "source": [
    "# посмотрим на то, какие у нас есть категориальные и численные столбцы\n",
    "\n",
    "cat_columns = []  # создаем пустой список для имен колонок категориальных данных\n",
    "num_columns = []  # создаем пустой список для имен колонок числовых данных\n",
    "\n",
    "for column_name in df.columns:  # смотрим на все колонки в датафрейме\n",
    "    if (df[column_name].dtypes == 'category'):  # проверяем тип данных для каждой колонки\n",
    "        cat_columns += [column_name]  # если тип объект - то складываем в категориальные данные\n",
    "    else:\n",
    "        num_columns += [column_name]  # иначе - числовые\n",
    "\n",
    "# важно: если признак категориальный, но хранится в формате числовых данных, тогда код не сработает корректно\n",
    "\n",
    "# выводим результат\n",
    "print('Категориальные данные:\\t ',cat_columns, '\\n Число столблцов = ',len(cat_columns))\n",
    "\n",
    "print('Числовые данные:\\t ',  num_columns, '\\n Число столблцов = ',len(num_columns))"
   ]
  },
  {
   "cell_type": "markdown",
   "id": "aff9659a",
   "metadata": {},
   "source": [
    "## Создание датасетов"
   ]
  },
  {
   "cell_type": "code",
   "execution_count": 9,
   "id": "3ca05019-618f-4150-8c6c-a297df74a5c3",
   "metadata": {},
   "outputs": [],
   "source": [
    "np.random.seed(seed)\n",
    "step = df.shape[0] // 6  # возьмём шаг в 1/6 датасета\n",
    "# для train возьмём половину датасета\n",
    "# для остальных возьмём по 1/6 датасета\n",
    "df_train = df.iloc[0:3*step]\n",
    "df_val = df.iloc[3*step:4*step]\n",
    "df_test = df.iloc[4*step:5*step]\n",
    "df_noise = df.iloc[5*step:df.shape[0] + 1]\n",
    "df_noise.loc[:, 'price'] = df_noise['price'] + 1000 * np.random.random(df_noise.shape[0])\n",
    "\n",
    "df_train.to_csv('./datasets/df_train.csv', index=False)\n",
    "df_val.to_csv('./datasets/df_val.csv', index=False)\n",
    "df_test.to_csv('./datasets/df_test.csv', index=False)\n",
    "df_noise.to_csv('./datasets/df_noise.csv', index=False)"
   ]
  },
  {
   "cell_type": "code",
   "execution_count": 10,
   "id": "ac515260-5ff1-415f-b05f-57b80d450e69",
   "metadata": {},
   "outputs": [
    {
     "data": {
      "text/plain": [
       "True"
      ]
     },
     "execution_count": 10,
     "metadata": {},
     "output_type": "execute_result"
    }
   ],
   "source": [
    "# Проверим, что всё взято верно\n",
    "df_train.shape[0] + \\\n",
    "df_val.shape[0] + \\\n",
    "df_test.shape[0] + \\\n",
    "df_noise.shape[0] == df.shape[0]"
   ]
  },
  {
   "cell_type": "markdown",
   "id": "9b9d7d5c",
   "metadata": {},
   "source": [
    "## Препроцессинг и обучение модели"
   ]
  },
  {
   "cell_type": "code",
   "execution_count": 11,
   "id": "240fcd58",
   "metadata": {},
   "outputs": [],
   "source": [
    "# Создание пайплайна для препроцессинга данных и выполнения прогноза\n",
    "transformer = ColumnTransformer([\n",
    "    ('OHE', OneHotEncoder(), ['cut']),\n",
    "    ('std_scale', StandardScaler(), ['carat', 'x', 'y', 'z']),\n",
    "])\n",
    "\n",
    "pipe = Pipeline([\n",
    "    ('preprocessing', transformer),\n",
    "    ('model', LinearRegression())\n",
    "])"
   ]
  },
  {
   "cell_type": "code",
   "execution_count": 12,
   "id": "6d5d4878",
   "metadata": {},
   "outputs": [],
   "source": [
    "X_train = df_train.drop(columns=['price'])\n",
    "y_train = df_train['price']"
   ]
  },
  {
   "cell_type": "code",
   "execution_count": 13,
   "id": "78884a19",
   "metadata": {},
   "outputs": [
    {
     "data": {
      "text/html": [
       "<style>#sk-container-id-1 {\n",
       "  /* Definition of color scheme common for light and dark mode */\n",
       "  --sklearn-color-text: black;\n",
       "  --sklearn-color-line: gray;\n",
       "  /* Definition of color scheme for unfitted estimators */\n",
       "  --sklearn-color-unfitted-level-0: #fff5e6;\n",
       "  --sklearn-color-unfitted-level-1: #f6e4d2;\n",
       "  --sklearn-color-unfitted-level-2: #ffe0b3;\n",
       "  --sklearn-color-unfitted-level-3: chocolate;\n",
       "  /* Definition of color scheme for fitted estimators */\n",
       "  --sklearn-color-fitted-level-0: #f0f8ff;\n",
       "  --sklearn-color-fitted-level-1: #d4ebff;\n",
       "  --sklearn-color-fitted-level-2: #b3dbfd;\n",
       "  --sklearn-color-fitted-level-3: cornflowerblue;\n",
       "\n",
       "  /* Specific color for light theme */\n",
       "  --sklearn-color-text-on-default-background: var(--sg-text-color, var(--theme-code-foreground, var(--jp-content-font-color1, black)));\n",
       "  --sklearn-color-background: var(--sg-background-color, var(--theme-background, var(--jp-layout-color0, white)));\n",
       "  --sklearn-color-border-box: var(--sg-text-color, var(--theme-code-foreground, var(--jp-content-font-color1, black)));\n",
       "  --sklearn-color-icon: #696969;\n",
       "\n",
       "  @media (prefers-color-scheme: dark) {\n",
       "    /* Redefinition of color scheme for dark theme */\n",
       "    --sklearn-color-text-on-default-background: var(--sg-text-color, var(--theme-code-foreground, var(--jp-content-font-color1, white)));\n",
       "    --sklearn-color-background: var(--sg-background-color, var(--theme-background, var(--jp-layout-color0, #111)));\n",
       "    --sklearn-color-border-box: var(--sg-text-color, var(--theme-code-foreground, var(--jp-content-font-color1, white)));\n",
       "    --sklearn-color-icon: #878787;\n",
       "  }\n",
       "}\n",
       "\n",
       "#sk-container-id-1 {\n",
       "  color: var(--sklearn-color-text);\n",
       "}\n",
       "\n",
       "#sk-container-id-1 pre {\n",
       "  padding: 0;\n",
       "}\n",
       "\n",
       "#sk-container-id-1 input.sk-hidden--visually {\n",
       "  border: 0;\n",
       "  clip: rect(1px 1px 1px 1px);\n",
       "  clip: rect(1px, 1px, 1px, 1px);\n",
       "  height: 1px;\n",
       "  margin: -1px;\n",
       "  overflow: hidden;\n",
       "  padding: 0;\n",
       "  position: absolute;\n",
       "  width: 1px;\n",
       "}\n",
       "\n",
       "#sk-container-id-1 div.sk-dashed-wrapped {\n",
       "  border: 1px dashed var(--sklearn-color-line);\n",
       "  margin: 0 0.4em 0.5em 0.4em;\n",
       "  box-sizing: border-box;\n",
       "  padding-bottom: 0.4em;\n",
       "  background-color: var(--sklearn-color-background);\n",
       "}\n",
       "\n",
       "#sk-container-id-1 div.sk-container {\n",
       "  /* jupyter's `normalize.less` sets `[hidden] { display: none; }`\n",
       "     but bootstrap.min.css set `[hidden] { display: none !important; }`\n",
       "     so we also need the `!important` here to be able to override the\n",
       "     default hidden behavior on the sphinx rendered scikit-learn.org.\n",
       "     See: https://github.com/scikit-learn/scikit-learn/issues/21755 */\n",
       "  display: inline-block !important;\n",
       "  position: relative;\n",
       "}\n",
       "\n",
       "#sk-container-id-1 div.sk-text-repr-fallback {\n",
       "  display: none;\n",
       "}\n",
       "\n",
       "div.sk-parallel-item,\n",
       "div.sk-serial,\n",
       "div.sk-item {\n",
       "  /* draw centered vertical line to link estimators */\n",
       "  background-image: linear-gradient(var(--sklearn-color-text-on-default-background), var(--sklearn-color-text-on-default-background));\n",
       "  background-size: 2px 100%;\n",
       "  background-repeat: no-repeat;\n",
       "  background-position: center center;\n",
       "}\n",
       "\n",
       "/* Parallel-specific style estimator block */\n",
       "\n",
       "#sk-container-id-1 div.sk-parallel-item::after {\n",
       "  content: \"\";\n",
       "  width: 100%;\n",
       "  border-bottom: 2px solid var(--sklearn-color-text-on-default-background);\n",
       "  flex-grow: 1;\n",
       "}\n",
       "\n",
       "#sk-container-id-1 div.sk-parallel {\n",
       "  display: flex;\n",
       "  align-items: stretch;\n",
       "  justify-content: center;\n",
       "  background-color: var(--sklearn-color-background);\n",
       "  position: relative;\n",
       "}\n",
       "\n",
       "#sk-container-id-1 div.sk-parallel-item {\n",
       "  display: flex;\n",
       "  flex-direction: column;\n",
       "}\n",
       "\n",
       "#sk-container-id-1 div.sk-parallel-item:first-child::after {\n",
       "  align-self: flex-end;\n",
       "  width: 50%;\n",
       "}\n",
       "\n",
       "#sk-container-id-1 div.sk-parallel-item:last-child::after {\n",
       "  align-self: flex-start;\n",
       "  width: 50%;\n",
       "}\n",
       "\n",
       "#sk-container-id-1 div.sk-parallel-item:only-child::after {\n",
       "  width: 0;\n",
       "}\n",
       "\n",
       "/* Serial-specific style estimator block */\n",
       "\n",
       "#sk-container-id-1 div.sk-serial {\n",
       "  display: flex;\n",
       "  flex-direction: column;\n",
       "  align-items: center;\n",
       "  background-color: var(--sklearn-color-background);\n",
       "  padding-right: 1em;\n",
       "  padding-left: 1em;\n",
       "}\n",
       "\n",
       "\n",
       "/* Toggleable style: style used for estimator/Pipeline/ColumnTransformer box that is\n",
       "clickable and can be expanded/collapsed.\n",
       "- Pipeline and ColumnTransformer use this feature and define the default style\n",
       "- Estimators will overwrite some part of the style using the `sk-estimator` class\n",
       "*/\n",
       "\n",
       "/* Pipeline and ColumnTransformer style (default) */\n",
       "\n",
       "#sk-container-id-1 div.sk-toggleable {\n",
       "  /* Default theme specific background. It is overwritten whether we have a\n",
       "  specific estimator or a Pipeline/ColumnTransformer */\n",
       "  background-color: var(--sklearn-color-background);\n",
       "}\n",
       "\n",
       "/* Toggleable label */\n",
       "#sk-container-id-1 label.sk-toggleable__label {\n",
       "  cursor: pointer;\n",
       "  display: block;\n",
       "  width: 100%;\n",
       "  margin-bottom: 0;\n",
       "  padding: 0.5em;\n",
       "  box-sizing: border-box;\n",
       "  text-align: center;\n",
       "}\n",
       "\n",
       "#sk-container-id-1 label.sk-toggleable__label-arrow:before {\n",
       "  /* Arrow on the left of the label */\n",
       "  content: \"▸\";\n",
       "  float: left;\n",
       "  margin-right: 0.25em;\n",
       "  color: var(--sklearn-color-icon);\n",
       "}\n",
       "\n",
       "#sk-container-id-1 label.sk-toggleable__label-arrow:hover:before {\n",
       "  color: var(--sklearn-color-text);\n",
       "}\n",
       "\n",
       "/* Toggleable content - dropdown */\n",
       "\n",
       "#sk-container-id-1 div.sk-toggleable__content {\n",
       "  max-height: 0;\n",
       "  max-width: 0;\n",
       "  overflow: hidden;\n",
       "  text-align: left;\n",
       "  /* unfitted */\n",
       "  background-color: var(--sklearn-color-unfitted-level-0);\n",
       "}\n",
       "\n",
       "#sk-container-id-1 div.sk-toggleable__content.fitted {\n",
       "  /* fitted */\n",
       "  background-color: var(--sklearn-color-fitted-level-0);\n",
       "}\n",
       "\n",
       "#sk-container-id-1 div.sk-toggleable__content pre {\n",
       "  margin: 0.2em;\n",
       "  border-radius: 0.25em;\n",
       "  color: var(--sklearn-color-text);\n",
       "  /* unfitted */\n",
       "  background-color: var(--sklearn-color-unfitted-level-0);\n",
       "}\n",
       "\n",
       "#sk-container-id-1 div.sk-toggleable__content.fitted pre {\n",
       "  /* unfitted */\n",
       "  background-color: var(--sklearn-color-fitted-level-0);\n",
       "}\n",
       "\n",
       "#sk-container-id-1 input.sk-toggleable__control:checked~div.sk-toggleable__content {\n",
       "  /* Expand drop-down */\n",
       "  max-height: 200px;\n",
       "  max-width: 100%;\n",
       "  overflow: auto;\n",
       "}\n",
       "\n",
       "#sk-container-id-1 input.sk-toggleable__control:checked~label.sk-toggleable__label-arrow:before {\n",
       "  content: \"▾\";\n",
       "}\n",
       "\n",
       "/* Pipeline/ColumnTransformer-specific style */\n",
       "\n",
       "#sk-container-id-1 div.sk-label input.sk-toggleable__control:checked~label.sk-toggleable__label {\n",
       "  color: var(--sklearn-color-text);\n",
       "  background-color: var(--sklearn-color-unfitted-level-2);\n",
       "}\n",
       "\n",
       "#sk-container-id-1 div.sk-label.fitted input.sk-toggleable__control:checked~label.sk-toggleable__label {\n",
       "  background-color: var(--sklearn-color-fitted-level-2);\n",
       "}\n",
       "\n",
       "/* Estimator-specific style */\n",
       "\n",
       "/* Colorize estimator box */\n",
       "#sk-container-id-1 div.sk-estimator input.sk-toggleable__control:checked~label.sk-toggleable__label {\n",
       "  /* unfitted */\n",
       "  background-color: var(--sklearn-color-unfitted-level-2);\n",
       "}\n",
       "\n",
       "#sk-container-id-1 div.sk-estimator.fitted input.sk-toggleable__control:checked~label.sk-toggleable__label {\n",
       "  /* fitted */\n",
       "  background-color: var(--sklearn-color-fitted-level-2);\n",
       "}\n",
       "\n",
       "#sk-container-id-1 div.sk-label label.sk-toggleable__label,\n",
       "#sk-container-id-1 div.sk-label label {\n",
       "  /* The background is the default theme color */\n",
       "  color: var(--sklearn-color-text-on-default-background);\n",
       "}\n",
       "\n",
       "/* On hover, darken the color of the background */\n",
       "#sk-container-id-1 div.sk-label:hover label.sk-toggleable__label {\n",
       "  color: var(--sklearn-color-text);\n",
       "  background-color: var(--sklearn-color-unfitted-level-2);\n",
       "}\n",
       "\n",
       "/* Label box, darken color on hover, fitted */\n",
       "#sk-container-id-1 div.sk-label.fitted:hover label.sk-toggleable__label.fitted {\n",
       "  color: var(--sklearn-color-text);\n",
       "  background-color: var(--sklearn-color-fitted-level-2);\n",
       "}\n",
       "\n",
       "/* Estimator label */\n",
       "\n",
       "#sk-container-id-1 div.sk-label label {\n",
       "  font-family: monospace;\n",
       "  font-weight: bold;\n",
       "  display: inline-block;\n",
       "  line-height: 1.2em;\n",
       "}\n",
       "\n",
       "#sk-container-id-1 div.sk-label-container {\n",
       "  text-align: center;\n",
       "}\n",
       "\n",
       "/* Estimator-specific */\n",
       "#sk-container-id-1 div.sk-estimator {\n",
       "  font-family: monospace;\n",
       "  border: 1px dotted var(--sklearn-color-border-box);\n",
       "  border-radius: 0.25em;\n",
       "  box-sizing: border-box;\n",
       "  margin-bottom: 0.5em;\n",
       "  /* unfitted */\n",
       "  background-color: var(--sklearn-color-unfitted-level-0);\n",
       "}\n",
       "\n",
       "#sk-container-id-1 div.sk-estimator.fitted {\n",
       "  /* fitted */\n",
       "  background-color: var(--sklearn-color-fitted-level-0);\n",
       "}\n",
       "\n",
       "/* on hover */\n",
       "#sk-container-id-1 div.sk-estimator:hover {\n",
       "  /* unfitted */\n",
       "  background-color: var(--sklearn-color-unfitted-level-2);\n",
       "}\n",
       "\n",
       "#sk-container-id-1 div.sk-estimator.fitted:hover {\n",
       "  /* fitted */\n",
       "  background-color: var(--sklearn-color-fitted-level-2);\n",
       "}\n",
       "\n",
       "/* Specification for estimator info (e.g. \"i\" and \"?\") */\n",
       "\n",
       "/* Common style for \"i\" and \"?\" */\n",
       "\n",
       ".sk-estimator-doc-link,\n",
       "a:link.sk-estimator-doc-link,\n",
       "a:visited.sk-estimator-doc-link {\n",
       "  float: right;\n",
       "  font-size: smaller;\n",
       "  line-height: 1em;\n",
       "  font-family: monospace;\n",
       "  background-color: var(--sklearn-color-background);\n",
       "  border-radius: 1em;\n",
       "  height: 1em;\n",
       "  width: 1em;\n",
       "  text-decoration: none !important;\n",
       "  margin-left: 1ex;\n",
       "  /* unfitted */\n",
       "  border: var(--sklearn-color-unfitted-level-1) 1pt solid;\n",
       "  color: var(--sklearn-color-unfitted-level-1);\n",
       "}\n",
       "\n",
       ".sk-estimator-doc-link.fitted,\n",
       "a:link.sk-estimator-doc-link.fitted,\n",
       "a:visited.sk-estimator-doc-link.fitted {\n",
       "  /* fitted */\n",
       "  border: var(--sklearn-color-fitted-level-1) 1pt solid;\n",
       "  color: var(--sklearn-color-fitted-level-1);\n",
       "}\n",
       "\n",
       "/* On hover */\n",
       "div.sk-estimator:hover .sk-estimator-doc-link:hover,\n",
       ".sk-estimator-doc-link:hover,\n",
       "div.sk-label-container:hover .sk-estimator-doc-link:hover,\n",
       ".sk-estimator-doc-link:hover {\n",
       "  /* unfitted */\n",
       "  background-color: var(--sklearn-color-unfitted-level-3);\n",
       "  color: var(--sklearn-color-background);\n",
       "  text-decoration: none;\n",
       "}\n",
       "\n",
       "div.sk-estimator.fitted:hover .sk-estimator-doc-link.fitted:hover,\n",
       ".sk-estimator-doc-link.fitted:hover,\n",
       "div.sk-label-container:hover .sk-estimator-doc-link.fitted:hover,\n",
       ".sk-estimator-doc-link.fitted:hover {\n",
       "  /* fitted */\n",
       "  background-color: var(--sklearn-color-fitted-level-3);\n",
       "  color: var(--sklearn-color-background);\n",
       "  text-decoration: none;\n",
       "}\n",
       "\n",
       "/* Span, style for the box shown on hovering the info icon */\n",
       ".sk-estimator-doc-link span {\n",
       "  display: none;\n",
       "  z-index: 9999;\n",
       "  position: relative;\n",
       "  font-weight: normal;\n",
       "  right: .2ex;\n",
       "  padding: .5ex;\n",
       "  margin: .5ex;\n",
       "  width: min-content;\n",
       "  min-width: 20ex;\n",
       "  max-width: 50ex;\n",
       "  color: var(--sklearn-color-text);\n",
       "  box-shadow: 2pt 2pt 4pt #999;\n",
       "  /* unfitted */\n",
       "  background: var(--sklearn-color-unfitted-level-0);\n",
       "  border: .5pt solid var(--sklearn-color-unfitted-level-3);\n",
       "}\n",
       "\n",
       ".sk-estimator-doc-link.fitted span {\n",
       "  /* fitted */\n",
       "  background: var(--sklearn-color-fitted-level-0);\n",
       "  border: var(--sklearn-color-fitted-level-3);\n",
       "}\n",
       "\n",
       ".sk-estimator-doc-link:hover span {\n",
       "  display: block;\n",
       "}\n",
       "\n",
       "/* \"?\"-specific style due to the `<a>` HTML tag */\n",
       "\n",
       "#sk-container-id-1 a.estimator_doc_link {\n",
       "  float: right;\n",
       "  font-size: 1rem;\n",
       "  line-height: 1em;\n",
       "  font-family: monospace;\n",
       "  background-color: var(--sklearn-color-background);\n",
       "  border-radius: 1rem;\n",
       "  height: 1rem;\n",
       "  width: 1rem;\n",
       "  text-decoration: none;\n",
       "  /* unfitted */\n",
       "  color: var(--sklearn-color-unfitted-level-1);\n",
       "  border: var(--sklearn-color-unfitted-level-1) 1pt solid;\n",
       "}\n",
       "\n",
       "#sk-container-id-1 a.estimator_doc_link.fitted {\n",
       "  /* fitted */\n",
       "  border: var(--sklearn-color-fitted-level-1) 1pt solid;\n",
       "  color: var(--sklearn-color-fitted-level-1);\n",
       "}\n",
       "\n",
       "/* On hover */\n",
       "#sk-container-id-1 a.estimator_doc_link:hover {\n",
       "  /* unfitted */\n",
       "  background-color: var(--sklearn-color-unfitted-level-3);\n",
       "  color: var(--sklearn-color-background);\n",
       "  text-decoration: none;\n",
       "}\n",
       "\n",
       "#sk-container-id-1 a.estimator_doc_link.fitted:hover {\n",
       "  /* fitted */\n",
       "  background-color: var(--sklearn-color-fitted-level-3);\n",
       "}\n",
       "</style><div id=\"sk-container-id-1\" class=\"sk-top-container\"><div class=\"sk-text-repr-fallback\"><pre>Pipeline(steps=[(&#x27;preprocessing&#x27;,\n",
       "                 ColumnTransformer(transformers=[(&#x27;OHE&#x27;, OneHotEncoder(),\n",
       "                                                  [&#x27;cut&#x27;]),\n",
       "                                                 (&#x27;std_scale&#x27;, StandardScaler(),\n",
       "                                                  [&#x27;carat&#x27;, &#x27;x&#x27;, &#x27;y&#x27;, &#x27;z&#x27;])])),\n",
       "                (&#x27;model&#x27;, LinearRegression())])</pre><b>In a Jupyter environment, please rerun this cell to show the HTML representation or trust the notebook. <br />On GitHub, the HTML representation is unable to render, please try loading this page with nbviewer.org.</b></div><div class=\"sk-container\" hidden><div class=\"sk-item sk-dashed-wrapped\"><div class=\"sk-label-container\"><div class=\"sk-label fitted sk-toggleable\"><input class=\"sk-toggleable__control sk-hidden--visually\" id=\"sk-estimator-id-1\" type=\"checkbox\" ><label for=\"sk-estimator-id-1\" class=\"sk-toggleable__label fitted sk-toggleable__label-arrow fitted\">&nbsp;&nbsp;Pipeline<a class=\"sk-estimator-doc-link fitted\" rel=\"noreferrer\" target=\"_blank\" href=\"https://scikit-learn.org/1.4/modules/generated/sklearn.pipeline.Pipeline.html\">?<span>Documentation for Pipeline</span></a><span class=\"sk-estimator-doc-link fitted\">i<span>Fitted</span></span></label><div class=\"sk-toggleable__content fitted\"><pre>Pipeline(steps=[(&#x27;preprocessing&#x27;,\n",
       "                 ColumnTransformer(transformers=[(&#x27;OHE&#x27;, OneHotEncoder(),\n",
       "                                                  [&#x27;cut&#x27;]),\n",
       "                                                 (&#x27;std_scale&#x27;, StandardScaler(),\n",
       "                                                  [&#x27;carat&#x27;, &#x27;x&#x27;, &#x27;y&#x27;, &#x27;z&#x27;])])),\n",
       "                (&#x27;model&#x27;, LinearRegression())])</pre></div> </div></div><div class=\"sk-serial\"><div class=\"sk-item sk-dashed-wrapped\"><div class=\"sk-label-container\"><div class=\"sk-label fitted sk-toggleable\"><input class=\"sk-toggleable__control sk-hidden--visually\" id=\"sk-estimator-id-2\" type=\"checkbox\" ><label for=\"sk-estimator-id-2\" class=\"sk-toggleable__label fitted sk-toggleable__label-arrow fitted\">&nbsp;preprocessing: ColumnTransformer<a class=\"sk-estimator-doc-link fitted\" rel=\"noreferrer\" target=\"_blank\" href=\"https://scikit-learn.org/1.4/modules/generated/sklearn.compose.ColumnTransformer.html\">?<span>Documentation for preprocessing: ColumnTransformer</span></a></label><div class=\"sk-toggleable__content fitted\"><pre>ColumnTransformer(transformers=[(&#x27;OHE&#x27;, OneHotEncoder(), [&#x27;cut&#x27;]),\n",
       "                                (&#x27;std_scale&#x27;, StandardScaler(),\n",
       "                                 [&#x27;carat&#x27;, &#x27;x&#x27;, &#x27;y&#x27;, &#x27;z&#x27;])])</pre></div> </div></div><div class=\"sk-parallel\"><div class=\"sk-parallel-item\"><div class=\"sk-item\"><div class=\"sk-label-container\"><div class=\"sk-label fitted sk-toggleable\"><input class=\"sk-toggleable__control sk-hidden--visually\" id=\"sk-estimator-id-3\" type=\"checkbox\" ><label for=\"sk-estimator-id-3\" class=\"sk-toggleable__label fitted sk-toggleable__label-arrow fitted\">OHE</label><div class=\"sk-toggleable__content fitted\"><pre>[&#x27;cut&#x27;]</pre></div> </div></div><div class=\"sk-serial\"><div class=\"sk-item\"><div class=\"sk-estimator fitted sk-toggleable\"><input class=\"sk-toggleable__control sk-hidden--visually\" id=\"sk-estimator-id-4\" type=\"checkbox\" ><label for=\"sk-estimator-id-4\" class=\"sk-toggleable__label fitted sk-toggleable__label-arrow fitted\">&nbsp;OneHotEncoder<a class=\"sk-estimator-doc-link fitted\" rel=\"noreferrer\" target=\"_blank\" href=\"https://scikit-learn.org/1.4/modules/generated/sklearn.preprocessing.OneHotEncoder.html\">?<span>Documentation for OneHotEncoder</span></a></label><div class=\"sk-toggleable__content fitted\"><pre>OneHotEncoder()</pre></div> </div></div></div></div></div><div class=\"sk-parallel-item\"><div class=\"sk-item\"><div class=\"sk-label-container\"><div class=\"sk-label fitted sk-toggleable\"><input class=\"sk-toggleable__control sk-hidden--visually\" id=\"sk-estimator-id-5\" type=\"checkbox\" ><label for=\"sk-estimator-id-5\" class=\"sk-toggleable__label fitted sk-toggleable__label-arrow fitted\">std_scale</label><div class=\"sk-toggleable__content fitted\"><pre>[&#x27;carat&#x27;, &#x27;x&#x27;, &#x27;y&#x27;, &#x27;z&#x27;]</pre></div> </div></div><div class=\"sk-serial\"><div class=\"sk-item\"><div class=\"sk-estimator fitted sk-toggleable\"><input class=\"sk-toggleable__control sk-hidden--visually\" id=\"sk-estimator-id-6\" type=\"checkbox\" ><label for=\"sk-estimator-id-6\" class=\"sk-toggleable__label fitted sk-toggleable__label-arrow fitted\">&nbsp;StandardScaler<a class=\"sk-estimator-doc-link fitted\" rel=\"noreferrer\" target=\"_blank\" href=\"https://scikit-learn.org/1.4/modules/generated/sklearn.preprocessing.StandardScaler.html\">?<span>Documentation for StandardScaler</span></a></label><div class=\"sk-toggleable__content fitted\"><pre>StandardScaler()</pre></div> </div></div></div></div></div></div></div><div class=\"sk-item\"><div class=\"sk-estimator fitted sk-toggleable\"><input class=\"sk-toggleable__control sk-hidden--visually\" id=\"sk-estimator-id-7\" type=\"checkbox\" ><label for=\"sk-estimator-id-7\" class=\"sk-toggleable__label fitted sk-toggleable__label-arrow fitted\">&nbsp;LinearRegression<a class=\"sk-estimator-doc-link fitted\" rel=\"noreferrer\" target=\"_blank\" href=\"https://scikit-learn.org/1.4/modules/generated/sklearn.linear_model.LinearRegression.html\">?<span>Documentation for LinearRegression</span></a></label><div class=\"sk-toggleable__content fitted\"><pre>LinearRegression()</pre></div> </div></div></div></div></div></div>"
      ],
      "text/plain": [
       "Pipeline(steps=[('preprocessing',\n",
       "                 ColumnTransformer(transformers=[('OHE', OneHotEncoder(),\n",
       "                                                  ['cut']),\n",
       "                                                 ('std_scale', StandardScaler(),\n",
       "                                                  ['carat', 'x', 'y', 'z'])])),\n",
       "                ('model', LinearRegression())])"
      ]
     },
     "execution_count": 13,
     "metadata": {},
     "output_type": "execute_result"
    }
   ],
   "source": [
    "# Обучение модели\n",
    "pipe.fit(X_train, y_train)"
   ]
  },
  {
   "cell_type": "code",
   "execution_count": 14,
   "id": "032b2d43-a88e-406a-a8e8-88375c1d8106",
   "metadata": {},
   "outputs": [
    {
     "data": {
      "text/plain": [
       "array(['OHE__cut_Fair', 'OHE__cut_Good', 'OHE__cut_Ideal',\n",
       "       'OHE__cut_Premium', 'OHE__cut_Very Good', 'std_scale__carat',\n",
       "       'std_scale__x', 'std_scale__y', 'std_scale__z'], dtype=object)"
      ]
     },
     "execution_count": 14,
     "metadata": {},
     "output_type": "execute_result"
    }
   ],
   "source": [
    "pipe['preprocessing'].get_feature_names_out()"
   ]
  },
  {
   "cell_type": "code",
   "execution_count": 15,
   "id": "630416d2-146c-438a-9149-0bd0cc727093",
   "metadata": {},
   "outputs": [
    {
     "data": {
      "text/plain": [
       "array([-3.17195120e+13, -3.17195120e+13, -3.17195120e+13, -3.17195120e+13,\n",
       "       -3.17195120e+13,  5.41125391e+03, -5.88492188e+02,  1.70675781e+02,\n",
       "       -1.29229688e+03])"
      ]
     },
     "execution_count": 15,
     "metadata": {},
     "output_type": "execute_result"
    }
   ],
   "source": [
    "pipe['model'].coef_"
   ]
  },
  {
   "cell_type": "code",
   "execution_count": 16,
   "id": "1c7fbdfc",
   "metadata": {},
   "outputs": [
    {
     "data": {
      "text/plain": [
       "['./models/pipe_model.joblib']"
      ]
     },
     "execution_count": 16,
     "metadata": {},
     "output_type": "execute_result"
    }
   ],
   "source": [
    "# Сохранение обученной модели\n",
    "joblib.dump(pipe, \"./models/pipe_model.joblib\")"
   ]
  },
  {
   "cell_type": "markdown",
   "id": "feefe1b1",
   "metadata": {},
   "source": [
    "## Создание файла с тестами"
   ]
  },
  {
   "cell_type": "markdown",
   "id": "7d8016ab-9236-4c5e-85ea-bceb247ad288",
   "metadata": {},
   "source": [
    "Создадим файл с конфигурацией для pytest и реализуем доп. параметр --dataset для передачи датасета из коммандной строки."
   ]
  },
  {
   "cell_type": "code",
   "execution_count": 17,
   "id": "4cb6eb97-7e2c-4f25-b961-25ed824b8a19",
   "metadata": {},
   "outputs": [
    {
     "name": "stdout",
     "output_type": "stream",
     "text": [
      "Overwriting conftest.py\n"
     ]
    }
   ],
   "source": [
    "%%writefile conftest.py\n",
    "def pytest_addoption(parser):\n",
    "    parser.addoption(\n",
    "        \"--dataset\",\n",
    "        default=[],\n",
    "        type=str,\n",
    "        action='append',\n",
    "        help=\"path to dataset to test model\",\n",
    "    )\n",
    "\n",
    "def pytest_generate_tests(metafunc):\n",
    "    metafunc.parametrize(\"dataset\", metafunc.config.getoption(\"dataset\"))"
   ]
  },
  {
   "cell_type": "code",
   "execution_count": 18,
   "id": "18e14321",
   "metadata": {},
   "outputs": [
    {
     "name": "stdout",
     "output_type": "stream",
     "text": [
      "Overwriting test.py\n"
     ]
    }
   ],
   "source": [
    "%%writefile test.py\n",
    "import pandas as pd\n",
    "import pytest\n",
    "import joblib\n",
    "from sklearn.metrics import mean_absolute_error, r2_score\n",
    "\n",
    "\n",
    "@pytest.fixture()\n",
    "def load_model():\n",
    "    model = joblib.load('./models/pipe_model.joblib')\n",
    "    return model\n",
    "\n",
    "\n",
    "@pytest.fixture()\n",
    "def load_dataset(dataset):\n",
    "    df = pd.read_csv(dataset)\n",
    "    return df\n",
    "\n",
    "\n",
    "@pytest.fixture()\n",
    "def make_prediction(load_model, load_dataset):\n",
    "    X = load_dataset.drop(columns='price')\n",
    "    y = load_dataset['price']\n",
    "    y_pred = load_model.predict(X)\n",
    "    return y, y_pred\n",
    "\n",
    "\n",
    "def test_MAE(make_prediction):\n",
    "    y, y_pred = make_prediction\n",
    "    assert mean_absolute_error(y, y_pred) < 900\n",
    "\n",
    "\n",
    "def test_R2(make_prediction):\n",
    "    y, y_pred = make_prediction\n",
    "    assert r2_score(y, y_pred) > 0.85\n"
   ]
  },
  {
   "cell_type": "markdown",
   "id": "89e8047b",
   "metadata": {},
   "source": [
    "## Тестирование датасетов"
   ]
  },
  {
   "cell_type": "code",
   "execution_count": 19,
   "id": "5f71694e",
   "metadata": {},
   "outputs": [
    {
     "name": "stdout",
     "output_type": "stream",
     "text": [
      "\u001b[1m============================= test session starts =============================\u001b[0m\n",
      "platform win32 -- Python 3.11.4, pytest-8.2.2, pluggy-1.5.0 -- C:\\Users\\Andrew\\AppData\\Local\\Programs\\Python\\Python311\\python.exe\n",
      "cachedir: .pytest_cache\n",
      "rootdir: C:\\Users\\Andrew\\Desktop\\UrFU_MLOps_course\\lab5\n",
      "plugins: anyio-4.2.0, hydra-core-1.3.2\n",
      "\u001b[1mcollecting ... \u001b[0mcollected 2 items\n",
      "\n",
      "test.py::test_MAE[./datasets/df_train.csv] \u001b[32mPASSED\u001b[0m\u001b[32m                        [ 50%]\u001b[0m\n",
      "test.py::test_R2[./datasets/df_train.csv] \u001b[32mPASSED\u001b[0m\u001b[32m                         [100%]\u001b[0m\n",
      "\n",
      "\u001b[32m============================== \u001b[32m\u001b[1m2 passed\u001b[0m\u001b[32m in 1.16s\u001b[0m\u001b[32m ==============================\u001b[0m\n"
     ]
    }
   ],
   "source": [
    "!pytest -v test.py --dataset=./datasets/df_train.csv"
   ]
  },
  {
   "cell_type": "code",
   "execution_count": 20,
   "id": "b3c76a7e-390c-4361-9920-21b98d22067a",
   "metadata": {},
   "outputs": [
    {
     "name": "stdout",
     "output_type": "stream",
     "text": [
      "\u001b[1m============================= test session starts =============================\u001b[0m\n",
      "platform win32 -- Python 3.11.4, pytest-8.2.2, pluggy-1.5.0 -- C:\\Users\\Andrew\\AppData\\Local\\Programs\\Python\\Python311\\python.exe\n",
      "cachedir: .pytest_cache\n",
      "rootdir: C:\\Users\\Andrew\\Desktop\\UrFU_MLOps_course\\lab5\n",
      "plugins: anyio-4.2.0, hydra-core-1.3.2\n",
      "\u001b[1mcollecting ... \u001b[0mcollected 2 items\n",
      "\n",
      "test.py::test_MAE[./datasets/df_val.csv] \u001b[32mPASSED\u001b[0m\u001b[32m                          [ 50%]\u001b[0m\n",
      "test.py::test_R2[./datasets/df_val.csv] \u001b[32mPASSED\u001b[0m\u001b[32m                           [100%]\u001b[0m\n",
      "\n",
      "\u001b[32m============================== \u001b[32m\u001b[1m2 passed\u001b[0m\u001b[32m in 1.18s\u001b[0m\u001b[32m ==============================\u001b[0m\n"
     ]
    }
   ],
   "source": [
    "!pytest -v test.py --dataset=./datasets/df_val.csv"
   ]
  },
  {
   "cell_type": "code",
   "execution_count": 21,
   "id": "a1cdb904-f749-4a84-b542-c954143ab01d",
   "metadata": {},
   "outputs": [
    {
     "name": "stdout",
     "output_type": "stream",
     "text": [
      "\u001b[1m============================= test session starts =============================\u001b[0m\n",
      "platform win32 -- Python 3.11.4, pytest-8.2.2, pluggy-1.5.0 -- C:\\Users\\Andrew\\AppData\\Local\\Programs\\Python\\Python311\\python.exe\n",
      "cachedir: .pytest_cache\n",
      "rootdir: C:\\Users\\Andrew\\Desktop\\UrFU_MLOps_course\\lab5\n",
      "plugins: anyio-4.2.0, hydra-core-1.3.2\n",
      "\u001b[1mcollecting ... \u001b[0mcollected 2 items\n",
      "\n",
      "test.py::test_MAE[./datasets/df_test.csv] \u001b[32mPASSED\u001b[0m\u001b[32m                         [ 50%]\u001b[0m\n",
      "test.py::test_R2[./datasets/df_test.csv] \u001b[32mPASSED\u001b[0m\u001b[32m                          [100%]\u001b[0m\n",
      "\n",
      "\u001b[32m============================== \u001b[32m\u001b[1m2 passed\u001b[0m\u001b[32m in 1.17s\u001b[0m\u001b[32m ==============================\u001b[0m\n"
     ]
    }
   ],
   "source": [
    "!pytest -v test.py --dataset=./datasets/df_test.csv"
   ]
  },
  {
   "cell_type": "code",
   "execution_count": 22,
   "id": "a5937be0-8fdc-48a7-8272-8041290ec7e2",
   "metadata": {
    "scrolled": true
   },
   "outputs": [
    {
     "name": "stdout",
     "output_type": "stream",
     "text": [
      "\u001b[1m============================= test session starts =============================\u001b[0m\n",
      "platform win32 -- Python 3.11.4, pytest-8.2.2, pluggy-1.5.0 -- C:\\Users\\Andrew\\AppData\\Local\\Programs\\Python\\Python311\\python.exe\n",
      "cachedir: .pytest_cache\n",
      "rootdir: C:\\Users\\Andrew\\Desktop\\UrFU_MLOps_course\\lab5\n",
      "plugins: anyio-4.2.0, hydra-core-1.3.2\n",
      "\u001b[1mcollecting ... \u001b[0mcollected 2 items\n",
      "\n",
      "test.py::test_MAE[./datasets/df_noise.csv] \u001b[31mFAILED\u001b[0m\u001b[31m                        [ 50%]\u001b[0m\n",
      "test.py::test_R2[./datasets/df_noise.csv] \u001b[31mFAILED\u001b[0m\u001b[31m                         [100%]\u001b[0m\n",
      "\n",
      "================================== FAILURES ===================================\n",
      "\u001b[31m\u001b[1m______________________ test_MAE[./datasets/df_noise.csv] ______________________\u001b[0m\n",
      "\n",
      "make_prediction = (0        1470.269689\n",
      "1        1624.475241\n",
      "2        1243.218526\n",
      "3        7538.933929\n",
      "4       15582.203605\n",
      "            ...float64, array([1109.4765625 , 2207.51953125,  770.18359375, ..., 9090.74609375,\n",
      "       1137.5234375 , 4927.4609375 ]))\n",
      "\n",
      "    \u001b[0m\u001b[94mdef\u001b[39;49;00m \u001b[92mtest_MAE\u001b[39;49;00m(make_prediction):\u001b[90m\u001b[39;49;00m\n",
      "        y, y_pred = make_prediction\u001b[90m\u001b[39;49;00m\n",
      ">       \u001b[94massert\u001b[39;49;00m mean_absolute_error(y, y_pred) < \u001b[94m900\u001b[39;49;00m\u001b[90m\u001b[39;49;00m\n",
      "\u001b[1m\u001b[31mE       assert 1018.972137415633 < 900\u001b[0m\n",
      "\u001b[1m\u001b[31mE        +  where 1018.972137415633 = mean_absolute_error(0        1470.269689\\n1        1624.475241\\n2        1243.218526\\n3        7538.933929\\n4       15582.203605\\n            ...     \\n8909     1216.862797\\n8910     4764.750939\\n8911    10064.645430\\n8912     1792.777294\\n8913     5160.877152\\nName: price, Length: 8914, dtype: float64, array([1109.4765625 , 2207.51953125,  770.18359375, ..., 9090.74609375,\\n       1137.5234375 , 4927.4609375 ]))\u001b[0m\n",
      "\n",
      "\u001b[1m\u001b[31mtest.py\u001b[0m:29: AssertionError\n",
      "\u001b[31m\u001b[1m______________________ test_R2[./datasets/df_noise.csv] _______________________\u001b[0m\n",
      "\n",
      "make_prediction = (0        1470.269689\n",
      "1        1624.475241\n",
      "2        1243.218526\n",
      "3        7538.933929\n",
      "4       15582.203605\n",
      "            ...float64, array([1109.4765625 , 2207.51953125,  770.18359375, ..., 9090.74609375,\n",
      "       1137.5234375 , 4927.4609375 ]))\n",
      "\n",
      "    \u001b[0m\u001b[94mdef\u001b[39;49;00m \u001b[92mtest_R2\u001b[39;49;00m(make_prediction):\u001b[90m\u001b[39;49;00m\n",
      "        y, y_pred = make_prediction\u001b[90m\u001b[39;49;00m\n",
      ">       \u001b[94massert\u001b[39;49;00m r2_score(y, y_pred) > \u001b[94m0.85\u001b[39;49;00m\u001b[90m\u001b[39;49;00m\n",
      "\u001b[1m\u001b[31mE       assert 0.8196432932724453 > 0.85\u001b[0m\n",
      "\u001b[1m\u001b[31mE        +  where 0.8196432932724453 = r2_score(0        1470.269689\\n1        1624.475241\\n2        1243.218526\\n3        7538.933929\\n4       15582.203605\\n            ...     \\n8909     1216.862797\\n8910     4764.750939\\n8911    10064.645430\\n8912     1792.777294\\n8913     5160.877152\\nName: price, Length: 8914, dtype: float64, array([1109.4765625 , 2207.51953125,  770.18359375, ..., 9090.74609375,\\n       1137.5234375 , 4927.4609375 ]))\u001b[0m\n",
      "\n",
      "\u001b[1m\u001b[31mtest.py\u001b[0m:34: AssertionError\n",
      "\u001b[36m\u001b[1m=========================== short test summary info ===========================\u001b[0m\n",
      "\u001b[31mFAILED\u001b[0m test.py::\u001b[1mtest_MAE[./datasets/df_noise.csv]\u001b[0m - assert 1018.972137415633 < 900\n",
      "\u001b[31mFAILED\u001b[0m test.py::\u001b[1mtest_R2[./datasets/df_noise.csv]\u001b[0m - assert 0.8196432932724453 > 0.85\n",
      "\u001b[31m============================== \u001b[31m\u001b[1m2 failed\u001b[0m\u001b[31m in 1.53s\u001b[0m\u001b[31m ==============================\u001b[0m\n"
     ]
    }
   ],
   "source": [
    "!pytest -v test.py --dataset=./datasets/df_noise.csv"
   ]
  },
  {
   "cell_type": "markdown",
   "id": "6b7aba94-b8d7-4f8d-ac88-c73e7cc2fd3f",
   "metadata": {},
   "source": [
    "Видно, что зашумлённый датасет не проходит проверку."
   ]
  }
 ],
 "metadata": {
  "kernelspec": {
   "display_name": "Python 3 (ipykernel)",
   "language": "python",
   "name": "python3"
  },
  "language_info": {
   "codemirror_mode": {
    "name": "ipython",
    "version": 3
   },
   "file_extension": ".py",
   "mimetype": "text/x-python",
   "name": "python",
   "nbconvert_exporter": "python",
   "pygments_lexer": "ipython3",
   "version": "3.11.4"
  }
 },
 "nbformat": 4,
 "nbformat_minor": 5
}
