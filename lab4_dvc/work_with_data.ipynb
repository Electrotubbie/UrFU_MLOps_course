{
 "cells": [
  {
   "cell_type": "markdown",
   "id": "b8edacc4-72f2-4e3a-a46c-04742d0a1b3a",
   "metadata": {},
   "source": [
    "Этапы задания: \n",
    "\n",
    "1. Установите git и dvc. \n",
    "2. Создайте папку lab4 в корне проекта. \n",
    "3. Настройте папку проекта для работы с git и dvc. \n",
    "4. Настройте git репозиторий. \n",
    "5. Настройте удаленное хранилище файлов, например на Google Disk или S3. \n",
    "6. Создайте датасет о пассажирах “Титаника”, например, catboost.titanic(). \n",
    "7. Создайте датасет, в котором содержится информация о классе (“Pclass”),  поле (“Sex”) и возрасте (“Age”) пассажира. Сделайте коммит в git и push в dvc. \n",
    "8. Создайте новую версию датасета, в котором пропущенные (nan) значения в поле “Age” будут заполнены средним значением. Сделайте коммит в git и push в dvc. \n",
    "9. Создайте новый признак с использованием one-hot-encoding для строкового признака “Пол” (“Sex”). Сделайте коммит в git и push в dvc. \n",
    "10. Выполните переключение между всеми созданными версиями датасета. "
   ]
  },
  {
   "cell_type": "markdown",
   "id": "4f99ae16-52eb-4a5f-8ae1-639ad6c6f9f1",
   "metadata": {},
   "source": [
    "## Создание датасета"
   ]
  },
  {
   "cell_type": "markdown",
   "id": "863be10e-5e75-45ce-a5ee-6ccaba0354b1",
   "metadata": {},
   "source": [
    "Папку lab4 и установку библиотек сделали ранее в терминале перед созданием блокнота."
   ]
  },
  {
   "cell_type": "code",
   "execution_count": 1,
   "id": "3c84d42f-2a7b-4f08-a450-c6976ab0a35b",
   "metadata": {},
   "outputs": [],
   "source": [
    "from catboost import datasets\n",
    "import pandas as pd\n",
    "\n",
    "train, test = datasets.titanic()\n",
    "data = pd.concat([train,test])[['Pclass', 'Sex', 'Age']]"
   ]
  },
  {
   "cell_type": "code",
   "execution_count": 2,
   "id": "ee34ad3b-27c7-418d-a3a5-8d8edfa7ea56",
   "metadata": {},
   "outputs": [
    {
     "data": {
      "text/html": [
       "<div>\n",
       "<style scoped>\n",
       "    .dataframe tbody tr th:only-of-type {\n",
       "        vertical-align: middle;\n",
       "    }\n",
       "\n",
       "    .dataframe tbody tr th {\n",
       "        vertical-align: top;\n",
       "    }\n",
       "\n",
       "    .dataframe thead th {\n",
       "        text-align: right;\n",
       "    }\n",
       "</style>\n",
       "<table border=\"1\" class=\"dataframe\">\n",
       "  <thead>\n",
       "    <tr style=\"text-align: right;\">\n",
       "      <th></th>\n",
       "      <th>Pclass</th>\n",
       "      <th>Sex</th>\n",
       "      <th>Age</th>\n",
       "    </tr>\n",
       "  </thead>\n",
       "  <tbody>\n",
       "    <tr>\n",
       "      <th>144</th>\n",
       "      <td>2</td>\n",
       "      <td>male</td>\n",
       "      <td>18.0</td>\n",
       "    </tr>\n",
       "    <tr>\n",
       "      <th>663</th>\n",
       "      <td>3</td>\n",
       "      <td>male</td>\n",
       "      <td>36.0</td>\n",
       "    </tr>\n",
       "    <tr>\n",
       "      <th>249</th>\n",
       "      <td>2</td>\n",
       "      <td>male</td>\n",
       "      <td>54.0</td>\n",
       "    </tr>\n",
       "    <tr>\n",
       "      <th>114</th>\n",
       "      <td>1</td>\n",
       "      <td>female</td>\n",
       "      <td>63.0</td>\n",
       "    </tr>\n",
       "    <tr>\n",
       "      <th>736</th>\n",
       "      <td>3</td>\n",
       "      <td>female</td>\n",
       "      <td>48.0</td>\n",
       "    </tr>\n",
       "  </tbody>\n",
       "</table>\n",
       "</div>"
      ],
      "text/plain": [
       "     Pclass     Sex   Age\n",
       "144       2    male  18.0\n",
       "663       3    male  36.0\n",
       "249       2    male  54.0\n",
       "114       1  female  63.0\n",
       "736       3  female  48.0"
      ]
     },
     "execution_count": 2,
     "metadata": {},
     "output_type": "execute_result"
    }
   ],
   "source": [
    "data.sample(5)"
   ]
  },
  {
   "cell_type": "markdown",
   "id": "f62bf862-9f91-4480-b8f1-21761bb20bb7",
   "metadata": {},
   "source": [
    "## Сохранение датасета. Первый пуш в dvc"
   ]
  },
  {
   "cell_type": "code",
   "execution_count": 3,
   "id": "f66d5726-8e76-4ecc-a335-a2708ca6bef2",
   "metadata": {},
   "outputs": [],
   "source": [
    "data.to_csv('titanic_data.csv')"
   ]
  },
  {
   "cell_type": "markdown",
   "id": "e4e0322f-c652-4266-ab52-ed53b4cd34b8",
   "metadata": {},
   "source": [
    "Индексируем датасет в dvc"
   ]
  },
  {
   "cell_type": "code",
   "execution_count": 4,
   "id": "4adca96b-19fb-40b4-9f40-0bdcb7b4451b",
   "metadata": {},
   "outputs": [
    {
     "name": "stdout",
     "output_type": "stream",
     "text": [
      "\u001b[?25l                                                                core\u001b[39m>\u001b[32m⠋\u001b[0m Checking graph\n",
      "Adding...                                                                       \n",
      "!\u001b[A\n",
      "Collecting files and computing hashes in titanic_data.csv |0.00 [00:00,     ?fil\u001b[A\n",
      "                                                                                \u001b[A\n",
      "!\u001b[A\n",
      "  0% Checking cache in '/home/user/Desktop/UrFU_MLOps_course/.dvc/cache/files/md\u001b[A\n",
      "                                                                                \u001b[A\n",
      "!\u001b[A\n",
      "  0%|          |Adding titanic_data.csv to cache      0/1 [00:00<?,     ?file/s]\u001b[A\n",
      "                                                                                \u001b[A\n",
      "!\u001b[A\n",
      "  0%|          |Checking out /home/user/Desktop/UrFU_M0/1 [00:00<?,    ?files/s]\u001b[A\n",
      "100% Adding...|████████████████████████████████████████|1/1 [00:00, 27.12file/s]\u001b[A\n",
      "\n",
      "To track the changes with git, run:\n",
      "\n",
      "\tgit add .gitignore titanic_data.csv.dvc\n",
      "\n",
      "To enable auto staging, run:\n",
      "\n",
      "\tdvc config core.autostage true\n",
      "\u001b[0m"
     ]
    }
   ],
   "source": [
    "!dvc add ./titanic_data.csv"
   ]
  },
  {
   "cell_type": "markdown",
   "id": "3a518c4c-003d-46d1-ace8-6ae9ad323743",
   "metadata": {},
   "source": [
    "Пушим в хранилище"
   ]
  },
  {
   "cell_type": "code",
   "execution_count": 5,
   "id": "2a7c11e3-cbda-41dd-8edd-bbb2f3dbced0",
   "metadata": {},
   "outputs": [
    {
     "name": "stdout",
     "output_type": "stream",
     "text": [
      "Collecting                                            |1.00 [00:00,  170entry/s]\n",
      "Pushing\n",
      "!\u001b[A\n",
      "  0% Checking cache in '1OAkggea2i7Edb7-Bphn6vNSTcB5M0pwt/files/md5'| |0/? [00:0\u001b[A\n",
      "                                                                                \u001b[A\n",
      "!\u001b[A\n",
      "  0% Checking cache in '/home/user/Desktop/UrFU_MLOps_course/.dvc/cache/files/md\u001b[A\n",
      "                                                                                \u001b[A\n",
      "!\u001b[A\n",
      "  0%|          |Pushing to gdrive                     0/1 [00:00<?,     ?file/s]\u001b[A\n",
      "  0%|          |Pushing to gdrive                     0/1 [00:00<?,     ?file/s]\u001b[A\n",
      "\n",
      "!\u001b[A\u001b[A\n",
      "\n",
      "  0%|          |/home/user/Desktop/UrFU_MLOps_c0.00/20.1k [00:00<?,        ?B/s]\u001b[A\u001b[A\n",
      "\n",
      " 40%|███▉      |/home/user/Desktop/UrFU_ML8.00k/20.1k [00:04<00:06,    2.02kB/s]\u001b[A\u001b[A\n",
      "\n",
      "                                                                                \u001b[A\u001b[A\n",
      "100%|██████████|Pushing to gdrive                 1/1 [00:05<00:00,  5.22s/file]\u001b[A\n",
      "Pushing                                                                         \u001b[A\n",
      "1 file pushed\n",
      "\u001b[0m"
     ]
    }
   ],
   "source": [
    "!dvc push"
   ]
  },
  {
   "cell_type": "markdown",
   "id": "6d0d87ea-197c-4b27-bc17-347260411e70",
   "metadata": {},
   "source": [
    "Проверим что изменилось в git (всё в текущей директории)"
   ]
  },
  {
   "cell_type": "code",
   "execution_count": 6,
   "id": "b89993e5-5f41-4d5c-9160-44557ee5810b",
   "metadata": {},
   "outputs": [
    {
     "name": "stdout",
     "output_type": "stream",
     "text": [
      "On branch lab4_dvc\n",
      "Untracked files:\n",
      "  (use \"git add <file>...\" to include in what will be committed)\n",
      "\t\u001b[31m./\u001b[m\n",
      "\n",
      "nothing added to commit but untracked files present (use \"git add\" to track)\n"
     ]
    }
   ],
   "source": [
    "!git status"
   ]
  },
  {
   "cell_type": "markdown",
   "id": "00c4364b-1dc0-4700-9304-a6eedc5f8f05",
   "metadata": {},
   "source": [
    "Закоммитим изменения в гит. Видны следующие изменения:\n",
    "- добавился .gitignore с нашим датасетом, чтоб в гит не улетал\n",
    "- добавился .dvc файл, в котором идёт индексация коммитов в dvc\n",
    "- добавился блокнот, в котором мы работаем "
   ]
  },
  {
   "cell_type": "code",
   "execution_count": 8,
   "id": "6b97639d-9748-4342-9d9c-9373b404dfef",
   "metadata": {},
   "outputs": [
    {
     "name": "stdout",
     "output_type": "stream",
     "text": [
      "[lab4_dvc ade1d19] add titanic dataset\n",
      " 3 files changed, 642 insertions(+)\n",
      " create mode 100644 lab4_dvc/.gitignore\n",
      " create mode 100644 lab4_dvc/titanic_data.csv.dvc\n",
      " create mode 100644 lab4_dvc/work_with_data.ipynb\n"
     ]
    }
   ],
   "source": [
    "!git add .\n",
    "!git commit -m \"add titanic dataset\""
   ]
  },
  {
   "cell_type": "markdown",
   "id": "f450c81f-efb3-4f34-ac37-65b5070e4f42",
   "metadata": {},
   "source": [
    "## Второй пуш в dvc. Средний возраст"
   ]
  },
  {
   "cell_type": "code",
   "execution_count": 9,
   "id": "7805f304-0e0c-4dc8-91e8-0680a097321c",
   "metadata": {},
   "outputs": [],
   "source": [
    "data.loc[data['Age'].isna(), 'Age'] = data['Age'].mean()\n",
    "data.to_csv('./titanic_data.csv')"
   ]
  },
  {
   "cell_type": "markdown",
   "id": "c8ccfa55-4385-4844-a236-20457bf81dec",
   "metadata": {},
   "source": [
    "Проверим видит ли dvc изменения"
   ]
  },
  {
   "cell_type": "code",
   "execution_count": 8,
   "id": "52fc30b4-bcb5-48c7-90f4-8359be56248c",
   "metadata": {},
   "outputs": [
    {
     "name": "stdout",
     "output_type": "stream",
     "text": [
      "titanic_data.csv.dvc:                                                           \n",
      "\tchanged outs:\n",
      "\t\tmodified:           titanic_data.csv\n",
      "\u001b[0m"
     ]
    }
   ],
   "source": [
    "!dvc status"
   ]
  },
  {
   "cell_type": "code",
   "execution_count": 10,
   "id": "cd1e3e28-d95b-4a57-99aa-c97741f8324c",
   "metadata": {},
   "outputs": [
    {
     "name": "stdout",
     "output_type": "stream",
     "text": [
      "\u001b[?25l\u001b[32m⠋\u001b[0m Checking graph                                       core\u001b[39m>\n",
      "Adding...                                                                       \n",
      "!\u001b[A\n",
      "Collecting files and computing hashes in titanic_data.csv |0.00 [00:00,     ?fil\u001b[A\n",
      "                                                                                \u001b[A\n",
      "!\u001b[A\n",
      "  0% Checking cache in '/home/user/Desktop/UrFU_MLOps_course/.dvc/cache/files/md\u001b[A\n",
      "                                                                                \u001b[A\n",
      "!\u001b[A\n",
      "  0%|          |Adding titanic_data.csv to cache      0/1 [00:00<?,     ?file/s]\u001b[A\n",
      "                                                                                \u001b[A\n",
      "!\u001b[A\n",
      "  0%|          |Checking out /home/user/Desktop/UrFU_M0/1 [00:00<?,    ?files/s]\u001b[A\n",
      "100% Adding...|████████████████████████████████████████|1/1 [00:00, 36.38file/s]\u001b[A\n",
      "\n",
      "To track the changes with git, run:\n",
      "\n",
      "\tgit add titanic_data.csv.dvc\n",
      "\n",
      "To enable auto staging, run:\n",
      "\n",
      "\tdvc config core.autostage true\n",
      "\u001b[0m"
     ]
    }
   ],
   "source": [
    "!dvc add titanic_data.csv "
   ]
  },
  {
   "cell_type": "code",
   "execution_count": null,
   "id": "672f4bfb-35cf-4093-89c4-1e14b847dbad",
   "metadata": {},
   "outputs": [],
   "source": [
    "!dvc push"
   ]
  },
  {
   "cell_type": "code",
   "execution_count": null,
   "id": "cae222e5-fc8e-46f0-9ddb-2b15fffb0973",
   "metadata": {},
   "outputs": [],
   "source": [
    "!git status"
   ]
  },
  {
   "cell_type": "code",
   "execution_count": null,
   "id": "79d3e3a0-7e06-42e2-a640-a2b257a94600",
   "metadata": {},
   "outputs": [],
   "source": [
    "!git commit -am \"fill NA in Age with mean\""
   ]
  },
  {
   "cell_type": "markdown",
   "id": "5ec7fefc-c785-448f-920a-f11e27f96611",
   "metadata": {},
   "source": [
    "## Третий пуш в dvc. OHE пола"
   ]
  },
  {
   "cell_type": "code",
   "execution_count": 12,
   "id": "87a7fc51-f272-43ce-af54-3d3413417e3c",
   "metadata": {},
   "outputs": [
    {
     "data": {
      "text/html": [
       "<div>\n",
       "<style scoped>\n",
       "    .dataframe tbody tr th:only-of-type {\n",
       "        vertical-align: middle;\n",
       "    }\n",
       "\n",
       "    .dataframe tbody tr th {\n",
       "        vertical-align: top;\n",
       "    }\n",
       "\n",
       "    .dataframe thead th {\n",
       "        text-align: right;\n",
       "    }\n",
       "</style>\n",
       "<table border=\"1\" class=\"dataframe\">\n",
       "  <thead>\n",
       "    <tr style=\"text-align: right;\">\n",
       "      <th></th>\n",
       "      <th>Pclass</th>\n",
       "      <th>Age</th>\n",
       "      <th>Sex_female</th>\n",
       "      <th>Sex_male</th>\n",
       "    </tr>\n",
       "  </thead>\n",
       "  <tbody>\n",
       "    <tr>\n",
       "      <th>0</th>\n",
       "      <td>3</td>\n",
       "      <td>22.000000</td>\n",
       "      <td>False</td>\n",
       "      <td>True</td>\n",
       "    </tr>\n",
       "    <tr>\n",
       "      <th>1</th>\n",
       "      <td>1</td>\n",
       "      <td>38.000000</td>\n",
       "      <td>True</td>\n",
       "      <td>False</td>\n",
       "    </tr>\n",
       "    <tr>\n",
       "      <th>2</th>\n",
       "      <td>3</td>\n",
       "      <td>26.000000</td>\n",
       "      <td>True</td>\n",
       "      <td>False</td>\n",
       "    </tr>\n",
       "    <tr>\n",
       "      <th>3</th>\n",
       "      <td>1</td>\n",
       "      <td>35.000000</td>\n",
       "      <td>True</td>\n",
       "      <td>False</td>\n",
       "    </tr>\n",
       "    <tr>\n",
       "      <th>4</th>\n",
       "      <td>3</td>\n",
       "      <td>35.000000</td>\n",
       "      <td>False</td>\n",
       "      <td>True</td>\n",
       "    </tr>\n",
       "    <tr>\n",
       "      <th>...</th>\n",
       "      <td>...</td>\n",
       "      <td>...</td>\n",
       "      <td>...</td>\n",
       "      <td>...</td>\n",
       "    </tr>\n",
       "    <tr>\n",
       "      <th>413</th>\n",
       "      <td>3</td>\n",
       "      <td>29.881138</td>\n",
       "      <td>False</td>\n",
       "      <td>True</td>\n",
       "    </tr>\n",
       "    <tr>\n",
       "      <th>414</th>\n",
       "      <td>1</td>\n",
       "      <td>39.000000</td>\n",
       "      <td>True</td>\n",
       "      <td>False</td>\n",
       "    </tr>\n",
       "    <tr>\n",
       "      <th>415</th>\n",
       "      <td>3</td>\n",
       "      <td>38.500000</td>\n",
       "      <td>False</td>\n",
       "      <td>True</td>\n",
       "    </tr>\n",
       "    <tr>\n",
       "      <th>416</th>\n",
       "      <td>3</td>\n",
       "      <td>29.881138</td>\n",
       "      <td>False</td>\n",
       "      <td>True</td>\n",
       "    </tr>\n",
       "    <tr>\n",
       "      <th>417</th>\n",
       "      <td>3</td>\n",
       "      <td>29.881138</td>\n",
       "      <td>False</td>\n",
       "      <td>True</td>\n",
       "    </tr>\n",
       "  </tbody>\n",
       "</table>\n",
       "<p>1309 rows × 4 columns</p>\n",
       "</div>"
      ],
      "text/plain": [
       "     Pclass        Age  Sex_female  Sex_male\n",
       "0         3  22.000000       False      True\n",
       "1         1  38.000000        True     False\n",
       "2         3  26.000000        True     False\n",
       "3         1  35.000000        True     False\n",
       "4         3  35.000000       False      True\n",
       "..      ...        ...         ...       ...\n",
       "413       3  29.881138       False      True\n",
       "414       1  39.000000        True     False\n",
       "415       3  38.500000       False      True\n",
       "416       3  29.881138       False      True\n",
       "417       3  29.881138       False      True\n",
       "\n",
       "[1309 rows x 4 columns]"
      ]
     },
     "execution_count": 12,
     "metadata": {},
     "output_type": "execute_result"
    }
   ],
   "source": [
    "data = pd.get_dummies(data, columns=['Sex'])\n",
    "data.to_csv('titanic_data.csv')"
   ]
  },
  {
   "cell_type": "code",
   "execution_count": null,
   "id": "5cb30afd-d1b5-4ee6-b50b-9851be4fd87a",
   "metadata": {},
   "outputs": [],
   "source": [
    "!dvc status"
   ]
  },
  {
   "cell_type": "code",
   "execution_count": null,
   "id": "3aecd623-6089-44b2-83a0-dbf84be5a444",
   "metadata": {},
   "outputs": [],
   "source": [
    "!dvc add titanic_data.csv "
   ]
  },
  {
   "cell_type": "code",
   "execution_count": null,
   "id": "ba28e1c1-62ea-450e-aa79-aeaa6041601d",
   "metadata": {},
   "outputs": [],
   "source": [
    "!dvc push"
   ]
  },
  {
   "cell_type": "code",
   "execution_count": null,
   "id": "292d0545-d85d-4b1d-afc7-e7e759de19b5",
   "metadata": {},
   "outputs": [],
   "source": [
    "!git status"
   ]
  },
  {
   "cell_type": "code",
   "execution_count": null,
   "id": "43327193-4078-4297-b943-c01e93034cac",
   "metadata": {},
   "outputs": [],
   "source": [
    "!git commit -am \"OHE Sex column\""
   ]
  },
  {
   "cell_type": "code",
   "execution_count": null,
   "id": "015070ee-a7a9-4f79-aa27-15077d84b36e",
   "metadata": {},
   "outputs": [],
   "source": [
    "!git push origin lab4_dvc"
   ]
  }
 ],
 "metadata": {
  "kernelspec": {
   "display_name": "Python 3 (ipykernel)",
   "language": "python",
   "name": "python3"
  },
  "language_info": {
   "codemirror_mode": {
    "name": "ipython",
    "version": 3
   },
   "file_extension": ".py",
   "mimetype": "text/x-python",
   "name": "python",
   "nbconvert_exporter": "python",
   "pygments_lexer": "ipython3",
   "version": "3.10.12"
  }
 },
 "nbformat": 4,
 "nbformat_minor": 5
}
