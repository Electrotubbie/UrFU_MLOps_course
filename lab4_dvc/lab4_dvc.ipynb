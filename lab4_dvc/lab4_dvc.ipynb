{
 "cells": [
  {
   "cell_type": "markdown",
   "id": "b8edacc4-72f2-4e3a-a46c-04742d0a1b3a",
   "metadata": {},
   "source": [
    "Этапы задания: \n",
    "\n",
    "1. Установите git и dvc. \n",
    "2. Создайте папку lab4 в корне проекта. \n",
    "3. Настройте папку проекта для работы с git и dvc. \n",
    "4. Настройте git репозиторий. \n",
    "5. Настройте удаленное хранилище файлов, например на Google Disk или S3. \n",
    "6. Создайте датасет о пассажирах “Титаника”, например, catboost.titanic(). \n",
    "7. Создайте датасет, в котором содержится информация о классе (“Pclass”),  поле (“Sex”) и возрасте (“Age”) пассажира. Сделайте коммит в git и push в dvc. \n",
    "8. Создайте новую версию датасета, в котором пропущенные (nan) значения в поле “Age” будут заполнены средним значением. Сделайте коммит в git и push в dvc. \n",
    "9. Создайте новый признак с использованием one-hot-encoding для строкового признака “Пол” (“Sex”). Сделайте коммит в git и push в dvc. \n",
    "10. Выполните переключение между всеми созданными версиями датасета. "
   ]
  },
  {
   "cell_type": "markdown",
   "id": "4f99ae16-52eb-4a5f-8ae1-639ad6c6f9f1",
   "metadata": {},
   "source": [
    "## Создание датасета"
   ]
  },
  {
   "cell_type": "markdown",
   "id": "863be10e-5e75-45ce-a5ee-6ccaba0354b1",
   "metadata": {},
   "source": [
    "Папку lab4 и установку библиотек сделали ранее в терминале перед созданием блокнота."
   ]
  },
  {
   "cell_type": "code",
   "execution_count": 1,
   "id": "3c84d42f-2a7b-4f08-a450-c6976ab0a35b",
   "metadata": {},
   "outputs": [],
   "source": [
    "from catboost import datasets\n",
    "import pandas as pd\n",
    "\n",
    "train, test = datasets.titanic()\n",
    "data = pd.concat([train,test])[['Pclass', 'Sex', 'Age']]"
   ]
  },
  {
   "cell_type": "code",
   "execution_count": 2,
   "id": "ee34ad3b-27c7-418d-a3a5-8d8edfa7ea56",
   "metadata": {},
   "outputs": [
    {
     "data": {
      "text/html": [
       "<div>\n",
       "<style scoped>\n",
       "    .dataframe tbody tr th:only-of-type {\n",
       "        vertical-align: middle;\n",
       "    }\n",
       "\n",
       "    .dataframe tbody tr th {\n",
       "        vertical-align: top;\n",
       "    }\n",
       "\n",
       "    .dataframe thead th {\n",
       "        text-align: right;\n",
       "    }\n",
       "</style>\n",
       "<table border=\"1\" class=\"dataframe\">\n",
       "  <thead>\n",
       "    <tr style=\"text-align: right;\">\n",
       "      <th></th>\n",
       "      <th>Pclass</th>\n",
       "      <th>Sex</th>\n",
       "      <th>Age</th>\n",
       "    </tr>\n",
       "  </thead>\n",
       "  <tbody>\n",
       "    <tr>\n",
       "      <th>144</th>\n",
       "      <td>2</td>\n",
       "      <td>male</td>\n",
       "      <td>18.0</td>\n",
       "    </tr>\n",
       "    <tr>\n",
       "      <th>663</th>\n",
       "      <td>3</td>\n",
       "      <td>male</td>\n",
       "      <td>36.0</td>\n",
       "    </tr>\n",
       "    <tr>\n",
       "      <th>249</th>\n",
       "      <td>2</td>\n",
       "      <td>male</td>\n",
       "      <td>54.0</td>\n",
       "    </tr>\n",
       "    <tr>\n",
       "      <th>114</th>\n",
       "      <td>1</td>\n",
       "      <td>female</td>\n",
       "      <td>63.0</td>\n",
       "    </tr>\n",
       "    <tr>\n",
       "      <th>736</th>\n",
       "      <td>3</td>\n",
       "      <td>female</td>\n",
       "      <td>48.0</td>\n",
       "    </tr>\n",
       "  </tbody>\n",
       "</table>\n",
       "</div>"
      ],
      "text/plain": [
       "     Pclass     Sex   Age\n",
       "144       2    male  18.0\n",
       "663       3    male  36.0\n",
       "249       2    male  54.0\n",
       "114       1  female  63.0\n",
       "736       3  female  48.0"
      ]
     },
     "execution_count": 2,
     "metadata": {},
     "output_type": "execute_result"
    }
   ],
   "source": [
    "data.sample(5)"
   ]
  },
  {
   "cell_type": "markdown",
   "id": "f62bf862-9f91-4480-b8f1-21761bb20bb7",
   "metadata": {},
   "source": [
    "## Сохранение датасета. Первый пуш в dvc"
   ]
  },
  {
   "cell_type": "code",
   "execution_count": 3,
   "id": "f66d5726-8e76-4ecc-a335-a2708ca6bef2",
   "metadata": {},
   "outputs": [],
   "source": [
    "data.to_csv('titanic_data.csv')"
   ]
  },
  {
   "cell_type": "markdown",
   "id": "e4e0322f-c652-4266-ab52-ed53b4cd34b8",
   "metadata": {},
   "source": [
    "Индексируем датасет в dvc"
   ]
  },
  {
   "cell_type": "code",
   "execution_count": 4,
   "id": "4adca96b-19fb-40b4-9f40-0bdcb7b4451b",
   "metadata": {},
   "outputs": [
    {
     "name": "stdout",
     "output_type": "stream",
     "text": [
      "\u001b[?25l                                                                core\u001b[39m>\u001b[32m⠋\u001b[0m Checking graph\n",
      "Adding...                                                                       \n",
      "!\u001b[A\n",
      "Collecting files and computing hashes in titanic_data.csv |0.00 [00:00,     ?fil\u001b[A\n",
      "                                                                                \u001b[A\n",
      "!\u001b[A\n",
      "  0% Checking cache in '/home/user/Desktop/UrFU_MLOps_course/.dvc/cache/files/md\u001b[A\n",
      "                                                                                \u001b[A\n",
      "!\u001b[A\n",
      "  0%|          |Adding titanic_data.csv to cache      0/1 [00:00<?,     ?file/s]\u001b[A\n",
      "                                                                                \u001b[A\n",
      "!\u001b[A\n",
      "  0%|          |Checking out /home/user/Desktop/UrFU_M0/1 [00:00<?,    ?files/s]\u001b[A\n",
      "100% Adding...|████████████████████████████████████████|1/1 [00:00, 27.12file/s]\u001b[A\n",
      "\n",
      "To track the changes with git, run:\n",
      "\n",
      "\tgit add .gitignore titanic_data.csv.dvc\n",
      "\n",
      "To enable auto staging, run:\n",
      "\n",
      "\tdvc config core.autostage true\n",
      "\u001b[0m"
     ]
    }
   ],
   "source": [
    "!dvc add ./titanic_data.csv"
   ]
  },
  {
   "cell_type": "markdown",
   "id": "3a518c4c-003d-46d1-ace8-6ae9ad323743",
   "metadata": {},
   "source": [
    "Пушим в хранилище"
   ]
  },
  {
   "cell_type": "code",
   "execution_count": 5,
   "id": "2a7c11e3-cbda-41dd-8edd-bbb2f3dbced0",
   "metadata": {},
   "outputs": [
    {
     "name": "stdout",
     "output_type": "stream",
     "text": [
      "Collecting                                            |1.00 [00:00,  170entry/s]\n",
      "Pushing\n",
      "!\u001b[A\n",
      "  0% Checking cache in '1OAkggea2i7Edb7-Bphn6vNSTcB5M0pwt/files/md5'| |0/? [00:0\u001b[A\n",
      "                                                                                \u001b[A\n",
      "!\u001b[A\n",
      "  0% Checking cache in '/home/user/Desktop/UrFU_MLOps_course/.dvc/cache/files/md\u001b[A\n",
      "                                                                                \u001b[A\n",
      "!\u001b[A\n",
      "  0%|          |Pushing to gdrive                     0/1 [00:00<?,     ?file/s]\u001b[A\n",
      "  0%|          |Pushing to gdrive                     0/1 [00:00<?,     ?file/s]\u001b[A\n",
      "\n",
      "!\u001b[A\u001b[A\n",
      "\n",
      "  0%|          |/home/user/Desktop/UrFU_MLOps_c0.00/20.1k [00:00<?,        ?B/s]\u001b[A\u001b[A\n",
      "\n",
      " 40%|███▉      |/home/user/Desktop/UrFU_ML8.00k/20.1k [00:04<00:06,    2.02kB/s]\u001b[A\u001b[A\n",
      "\n",
      "                                                                                \u001b[A\u001b[A\n",
      "100%|██████████|Pushing to gdrive                 1/1 [00:05<00:00,  5.22s/file]\u001b[A\n",
      "Pushing                                                                         \u001b[A\n",
      "1 file pushed\n",
      "\u001b[0m"
     ]
    }
   ],
   "source": [
    "!dvc push"
   ]
  },
  {
   "cell_type": "markdown",
   "id": "6d0d87ea-197c-4b27-bc17-347260411e70",
   "metadata": {},
   "source": [
    "Проверим что изменилось в git (всё в текущей директории)"
   ]
  },
  {
   "cell_type": "code",
   "execution_count": 6,
   "id": "b89993e5-5f41-4d5c-9160-44557ee5810b",
   "metadata": {},
   "outputs": [
    {
     "name": "stdout",
     "output_type": "stream",
     "text": [
      "On branch lab4_dvc\n",
      "Untracked files:\n",
      "  (use \"git add <file>...\" to include in what will be committed)\n",
      "\t\u001b[31m./\u001b[m\n",
      "\n",
      "nothing added to commit but untracked files present (use \"git add\" to track)\n"
     ]
    }
   ],
   "source": [
    "!git status"
   ]
  },
  {
   "cell_type": "markdown",
   "id": "00c4364b-1dc0-4700-9304-a6eedc5f8f05",
   "metadata": {},
   "source": [
    "Закоммитим изменения в гит. Видны следующие изменения:\n",
    "- добавился .gitignore с нашим датасетом, чтоб в гит не улетал\n",
    "- добавился .dvc файл, в котором идёт индексация коммитов в dvc\n",
    "- добавился блокнот, в котором мы работаем "
   ]
  },
  {
   "cell_type": "code",
   "execution_count": 8,
   "id": "6b97639d-9748-4342-9d9c-9373b404dfef",
   "metadata": {},
   "outputs": [
    {
     "name": "stdout",
     "output_type": "stream",
     "text": [
      "[lab4_dvc ade1d19] add titanic dataset\n",
      " 3 files changed, 642 insertions(+)\n",
      " create mode 100644 lab4_dvc/.gitignore\n",
      " create mode 100644 lab4_dvc/titanic_data.csv.dvc\n",
      " create mode 100644 lab4_dvc/work_with_data.ipynb\n"
     ]
    }
   ],
   "source": [
    "!git add .\n",
    "!git commit -m \"add titanic dataset\""
   ]
  },
  {
   "cell_type": "markdown",
   "id": "f450c81f-efb3-4f34-ac37-65b5070e4f42",
   "metadata": {},
   "source": [
    "## Второй пуш в dvc. Средний возраст"
   ]
  },
  {
   "cell_type": "code",
   "execution_count": 9,
   "id": "7805f304-0e0c-4dc8-91e8-0680a097321c",
   "metadata": {},
   "outputs": [],
   "source": [
    "data.loc[data['Age'].isna(), 'Age'] = data['Age'].mean()\n",
    "data.to_csv('./titanic_data.csv')"
   ]
  },
  {
   "cell_type": "markdown",
   "id": "c8ccfa55-4385-4844-a236-20457bf81dec",
   "metadata": {},
   "source": [
    "Проверим видит ли dvc изменения"
   ]
  },
  {
   "cell_type": "code",
   "execution_count": 10,
   "id": "52fc30b4-bcb5-48c7-90f4-8359be56248c",
   "metadata": {},
   "outputs": [
    {
     "name": "stdout",
     "output_type": "stream",
     "text": [
      "titanic_data.csv.dvc:                                                           \n",
      "\tchanged outs:\n",
      "\t\tmodified:           titanic_data.csv\n",
      "\u001b[0m"
     ]
    }
   ],
   "source": [
    "!dvc status"
   ]
  },
  {
   "cell_type": "code",
   "execution_count": 11,
   "id": "cd1e3e28-d95b-4a57-99aa-c97741f8324c",
   "metadata": {},
   "outputs": [
    {
     "name": "stdout",
     "output_type": "stream",
     "text": [
      "\u001b[?25l\u001b[32m⠋\u001b[0m Checking graph                                       core\u001b[39m>\n",
      "Adding...                                                                       \n",
      "!\u001b[A\n",
      "Collecting files and computing hashes in titanic_data.csv |0.00 [00:00,     ?fil\u001b[A\n",
      "                                                                                \u001b[A\n",
      "!\u001b[A\n",
      "  0% Checking cache in '/home/user/Desktop/UrFU_MLOps_course/.dvc/cache/files/md\u001b[A\n",
      "                                                                                \u001b[A\n",
      "!\u001b[A\n",
      "  0%|          |Adding titanic_data.csv to cache      0/1 [00:00<?,     ?file/s]\u001b[A\n",
      "                                                                                \u001b[A\n",
      "!\u001b[A\n",
      "  0%|          |Checking out /home/user/Desktop/UrFU_M0/1 [00:00<?,    ?files/s]\u001b[A\n",
      "100% Adding...|████████████████████████████████████████|1/1 [00:00, 33.86file/s]\u001b[A\n",
      "\n",
      "To track the changes with git, run:\n",
      "\n",
      "\tgit add titanic_data.csv.dvc\n",
      "\n",
      "To enable auto staging, run:\n",
      "\n",
      "\tdvc config core.autostage true\n",
      "\u001b[0m"
     ]
    }
   ],
   "source": [
    "!dvc add titanic_data.csv "
   ]
  },
  {
   "cell_type": "code",
   "execution_count": 12,
   "id": "672f4bfb-35cf-4093-89c4-1e14b847dbad",
   "metadata": {},
   "outputs": [
    {
     "name": "stdout",
     "output_type": "stream",
     "text": [
      "Collecting                                            |1.00 [00:00,  197entry/s]\n",
      "Pushing\n",
      "!\u001b[A\n",
      "  0% Checking cache in '1OAkggea2i7Edb7-Bphn6vNSTcB5M0pwt/files/md5'| |0/? [00:0\u001b[A\n",
      "                                                                                \u001b[A\n",
      "!\u001b[A\n",
      "  0% Checking cache in '/home/user/Desktop/UrFU_MLOps_course/.dvc/cache/files/md\u001b[A\n",
      "                                                                                \u001b[A\n",
      "!\u001b[A\n",
      "  0%|          |Pushing to gdrive                     0/1 [00:00<?,     ?file/s]\u001b[A\n",
      "  0%|          |Pushing to gdrive                     0/1 [00:00<?,     ?file/s]\u001b[A\n",
      "\n",
      "!\u001b[A\u001b[A\n",
      "\n",
      "  0%|          |/home/user/Desktop/UrFU_MLOps_c0.00/24.7k [00:00<?,        ?B/s]\u001b[A\u001b[A\n",
      "\n",
      " 32%|███▏      |/home/user/Desktop/UrFU_ML8.00k/24.7k [00:01<00:03,    5.00kB/s]\u001b[A\u001b[A\n",
      "\n",
      "                                                                                \u001b[A\u001b[A\n",
      "100%|██████████|Pushing to gdrive                 1/1 [00:03<00:00,  2.74s/file]\u001b[A\n",
      "Pushing                                                                         \u001b[A\n",
      "1 file pushed\n",
      "\u001b[0m"
     ]
    }
   ],
   "source": [
    "!dvc push"
   ]
  },
  {
   "cell_type": "code",
   "execution_count": 13,
   "id": "cae222e5-fc8e-46f0-9ddb-2b15fffb0973",
   "metadata": {},
   "outputs": [
    {
     "name": "stdout",
     "output_type": "stream",
     "text": [
      "On branch lab4_dvc\n",
      "Changes not staged for commit:\n",
      "  (use \"git add <file>...\" to update what will be committed)\n",
      "  (use \"git restore <file>...\" to discard changes in working directory)\n",
      "\t\u001b[31mmodified:   titanic_data.csv.dvc\u001b[m\n",
      "\t\u001b[31mmodified:   work_with_data.ipynb\u001b[m\n",
      "\n",
      "no changes added to commit (use \"git add\" and/or \"git commit -a\")\n"
     ]
    }
   ],
   "source": [
    "!git status"
   ]
  },
  {
   "cell_type": "code",
   "execution_count": 14,
   "id": "79d3e3a0-7e06-42e2-a640-a2b257a94600",
   "metadata": {},
   "outputs": [
    {
     "name": "stdout",
     "output_type": "stream",
     "text": [
      "[lab4_dvc a215c0d] fill NA in Age with mean\n",
      " 2 files changed, 63 insertions(+), 32 deletions(-)\n"
     ]
    }
   ],
   "source": [
    "!git commit -am \"fill NA in Age with mean\""
   ]
  },
  {
   "cell_type": "markdown",
   "id": "5ec7fefc-c785-448f-920a-f11e27f96611",
   "metadata": {},
   "source": [
    "## Третий пуш в dvc. OHE пола"
   ]
  },
  {
   "cell_type": "code",
   "execution_count": 15,
   "id": "87a7fc51-f272-43ce-af54-3d3413417e3c",
   "metadata": {},
   "outputs": [],
   "source": [
    "data = pd.get_dummies(data, columns=['Sex'])\n",
    "data.to_csv('titanic_data.csv')"
   ]
  },
  {
   "cell_type": "code",
   "execution_count": 16,
   "id": "5cb30afd-d1b5-4ee6-b50b-9851be4fd87a",
   "metadata": {},
   "outputs": [
    {
     "name": "stdout",
     "output_type": "stream",
     "text": [
      "titanic_data.csv.dvc:                                                           \n",
      "\tchanged outs:\n",
      "\t\tmodified:           titanic_data.csv\n",
      "\u001b[0m"
     ]
    }
   ],
   "source": [
    "!dvc status"
   ]
  },
  {
   "cell_type": "code",
   "execution_count": 17,
   "id": "3aecd623-6089-44b2-83a0-dbf84be5a444",
   "metadata": {},
   "outputs": [
    {
     "name": "stdout",
     "output_type": "stream",
     "text": [
      "\u001b[?25l\u001b[32m⠋\u001b[0m Checking graph                                       core\u001b[39m>\n",
      "Adding...                                                                       \n",
      "!\u001b[A\n",
      "Collecting files and computing hashes in titanic_data.csv |0.00 [00:00,     ?fil\u001b[A\n",
      "                                                                                \u001b[A\n",
      "!\u001b[A\n",
      "  0% Checking cache in '/home/user/Desktop/UrFU_MLOps_course/.dvc/cache/files/md\u001b[A\n",
      "                                                                                \u001b[A\n",
      "!\u001b[A\n",
      "  0%|          |Adding titanic_data.csv to cache      0/1 [00:00<?,     ?file/s]\u001b[A\n",
      "                                                                                \u001b[A\n",
      "!\u001b[A\n",
      "  0%|          |Checking out /home/user/Desktop/UrFU_M0/1 [00:00<?,    ?files/s]\u001b[A\n",
      "100% Adding...|████████████████████████████████████████|1/1 [00:00, 38.18file/s]\u001b[A\n",
      "\n",
      "To track the changes with git, run:\n",
      "\n",
      "\tgit add titanic_data.csv.dvc\n",
      "\n",
      "To enable auto staging, run:\n",
      "\n",
      "\tdvc config core.autostage true\n",
      "\u001b[0m"
     ]
    }
   ],
   "source": [
    "!dvc add titanic_data.csv "
   ]
  },
  {
   "cell_type": "code",
   "execution_count": 18,
   "id": "ba28e1c1-62ea-450e-aa79-aeaa6041601d",
   "metadata": {},
   "outputs": [
    {
     "name": "stdout",
     "output_type": "stream",
     "text": [
      "Collecting                                            |1.00 [00:00,  173entry/s]\n",
      "Pushing\n",
      "!\u001b[A\n",
      "  0% Checking cache in '1OAkggea2i7Edb7-Bphn6vNSTcB5M0pwt/files/md5'| |0/? [00:0\u001b[A\n",
      "                                                                                \u001b[A\n",
      "!\u001b[A\n",
      "  0% Checking cache in '/home/user/Desktop/UrFU_MLOps_course/.dvc/cache/files/md\u001b[A\n",
      "                                                                                \u001b[A\n",
      "!\u001b[A\n",
      "  0%|          |Pushing to gdrive                     0/1 [00:00<?,     ?file/s]\u001b[A\n",
      "  0%|          |Pushing to gdrive                     0/1 [00:00<?,     ?file/s]\u001b[A\n",
      "\n",
      "!\u001b[A\u001b[A\n",
      "\n",
      "  0%|          |/home/user/Desktop/UrFU_MLOps_c0.00/31.5k [00:00<?,        ?B/s]\u001b[A\u001b[A\n",
      "\n",
      " 25%|██▌       |/home/user/Desktop/UrFU_ML8.00k/31.5k [00:01<00:04,    5.34kB/s]\u001b[A\u001b[A\n",
      "\n",
      "                                                                                \u001b[A\u001b[A\n",
      "100%|██████████|Pushing to gdrive                 1/1 [00:03<00:00,  2.69s/file]\u001b[A\n",
      "Pushing                                                                         \u001b[A\n",
      "1 file pushed\n",
      "\u001b[0m"
     ]
    }
   ],
   "source": [
    "!dvc push"
   ]
  },
  {
   "cell_type": "code",
   "execution_count": 19,
   "id": "292d0545-d85d-4b1d-afc7-e7e759de19b5",
   "metadata": {},
   "outputs": [
    {
     "name": "stdout",
     "output_type": "stream",
     "text": [
      "On branch lab4_dvc\n",
      "Changes not staged for commit:\n",
      "  (use \"git add <file>...\" to update what will be committed)\n",
      "  (use \"git restore <file>...\" to discard changes in working directory)\n",
      "\t\u001b[31mmodified:   titanic_data.csv.dvc\u001b[m\n",
      "\n",
      "no changes added to commit (use \"git add\" and/or \"git commit -a\")\n"
     ]
    }
   ],
   "source": [
    "!git status"
   ]
  },
  {
   "cell_type": "code",
   "execution_count": 20,
   "id": "43327193-4078-4297-b943-c01e93034cac",
   "metadata": {},
   "outputs": [
    {
     "name": "stdout",
     "output_type": "stream",
     "text": [
      "[lab4_dvc 89e7818] OHE Sex column\n",
      " 1 file changed, 2 insertions(+), 2 deletions(-)\n"
     ]
    }
   ],
   "source": [
    "!git commit -am \"OHE Sex column\""
   ]
  },
  {
   "cell_type": "markdown",
   "id": "a5fa30c8-96d1-4e4d-bc22-b5b65aeeeb38",
   "metadata": {},
   "source": [
    "## Переключение между версиями"
   ]
  },
  {
   "cell_type": "markdown",
   "id": "ad4e835d-0b5a-4144-9b39-a49a8b6f7388",
   "metadata": {},
   "source": [
    "Посмотрим на текущий датасет\n",
    "\n",
    "Это самая последняя версия"
   ]
  },
  {
   "cell_type": "code",
   "execution_count": 26,
   "id": "e19d6a08-d2f7-4e3a-b288-67b87f41a198",
   "metadata": {},
   "outputs": [
    {
     "data": {
      "text/html": [
       "<div>\n",
       "<style scoped>\n",
       "    .dataframe tbody tr th:only-of-type {\n",
       "        vertical-align: middle;\n",
       "    }\n",
       "\n",
       "    .dataframe tbody tr th {\n",
       "        vertical-align: top;\n",
       "    }\n",
       "\n",
       "    .dataframe thead th {\n",
       "        text-align: right;\n",
       "    }\n",
       "</style>\n",
       "<table border=\"1\" class=\"dataframe\">\n",
       "  <thead>\n",
       "    <tr style=\"text-align: right;\">\n",
       "      <th></th>\n",
       "      <th>Pclass</th>\n",
       "      <th>Age</th>\n",
       "      <th>Sex_female</th>\n",
       "      <th>Sex_male</th>\n",
       "    </tr>\n",
       "  </thead>\n",
       "  <tbody>\n",
       "    <tr>\n",
       "      <th>545</th>\n",
       "      <td>1</td>\n",
       "      <td>64.000000</td>\n",
       "      <td>False</td>\n",
       "      <td>True</td>\n",
       "    </tr>\n",
       "    <tr>\n",
       "      <th>307</th>\n",
       "      <td>1</td>\n",
       "      <td>17.000000</td>\n",
       "      <td>True</td>\n",
       "      <td>False</td>\n",
       "    </tr>\n",
       "    <tr>\n",
       "      <th>425</th>\n",
       "      <td>3</td>\n",
       "      <td>29.881138</td>\n",
       "      <td>False</td>\n",
       "      <td>True</td>\n",
       "    </tr>\n",
       "    <tr>\n",
       "      <th>595</th>\n",
       "      <td>3</td>\n",
       "      <td>36.000000</td>\n",
       "      <td>False</td>\n",
       "      <td>True</td>\n",
       "    </tr>\n",
       "    <tr>\n",
       "      <th>721</th>\n",
       "      <td>3</td>\n",
       "      <td>17.000000</td>\n",
       "      <td>False</td>\n",
       "      <td>True</td>\n",
       "    </tr>\n",
       "  </tbody>\n",
       "</table>\n",
       "</div>"
      ],
      "text/plain": [
       "     Pclass        Age  Sex_female  Sex_male\n",
       "545       1  64.000000       False      True\n",
       "307       1  17.000000        True     False\n",
       "425       3  29.881138       False      True\n",
       "595       3  36.000000       False      True\n",
       "721       3  17.000000       False      True"
      ]
     },
     "execution_count": 26,
     "metadata": {},
     "output_type": "execute_result"
    }
   ],
   "source": [
    "pd.read_csv('titanic_data.csv', index_col=0).sample(5)"
   ]
  },
  {
   "cell_type": "code",
   "execution_count": 28,
   "id": "bacd10a2-3bed-46e0-a76f-d12761ffbdb1",
   "metadata": {},
   "outputs": [
    {
     "name": "stdout",
     "output_type": "stream",
     "text": [
      "\u001b[33m81eec0a\u001b[m\u001b[33m (\u001b[m\u001b[1;36mHEAD -> \u001b[m\u001b[1;32mlab4_dvc\u001b[m\u001b[33m)\u001b[m delete dvc notebook from git\n",
      "\u001b[33m89e7818\u001b[m OHE Sex column\n",
      "\u001b[33ma215c0d\u001b[m fill NA in Age with mean\n",
      "\u001b[33made1d19\u001b[m add titanic dataset\n",
      "\u001b[33m7d5c011\u001b[m configure dvc\n",
      "\u001b[33mb81f199\u001b[m\u001b[33m (\u001b[m\u001b[1;31morigin/main\u001b[m\u001b[33m, \u001b[m\u001b[1;31morigin/HEAD\u001b[m\u001b[33m, \u001b[m\u001b[1;32mmain\u001b[m\u001b[33m)\u001b[m add link to model_testing.py in README.md\n",
      "\u001b[33ma686de5\u001b[m Change MSE to RMSE\n",
      "\u001b[33med387a8\u001b[m Rename jenkins pipeline\n",
      "\u001b[33m2b79b61\u001b[m Edit README.md\n",
      "\u001b[33m457fa4a\u001b[m add first jenkins pipeline\n",
      "\u001b[33mbc98959\u001b[m Added model_preparation and model_testing\n",
      "\u001b[33m0dccd7e\u001b[m Added model_preparation.py\n",
      "\u001b[33m4f3d21c\u001b[m edit .gitignore\n",
      "\u001b[33m89e35da\u001b[m Delete .DS_Store\n",
      "\u001b[33m581895a\u001b[m rm DS_Store\n",
      "\u001b[33m31b813a\u001b[m edit gitignore for ignore mac files\n",
      "\u001b[33m531a096\u001b[m edit model_preprocessing and fix error\n",
      "\u001b[33m00193ae\u001b[m edit pipeline and premissions for py files\n",
      "\u001b[33mad816cd\u001b[m add pipeline file and create empty model files\n",
      "\u001b[33m97a3083\u001b[m add requirements.txt\n",
      "\u001b[33m7fe8380\u001b[m make data_creation.py and model_preprocessing.py\n",
      "\u001b[33md692939\u001b[m Initial commit\n"
     ]
    }
   ],
   "source": [
    "!git log --oneline"
   ]
  },
  {
   "cell_type": "markdown",
   "id": "7817cce6-be19-4716-8934-f26a451313c9",
   "metadata": {},
   "source": [
    "Переключимся на ade1d19 коммит, в котором мы добавили датасет"
   ]
  },
  {
   "cell_type": "code",
   "execution_count": 30,
   "id": "64abb6d7-b43d-4d0f-b6b2-18eeddecc512",
   "metadata": {},
   "outputs": [
    {
     "name": "stdout",
     "output_type": "stream",
     "text": [
      "Note: switching to 'ade1d19'.\n",
      "\n",
      "You are in 'detached HEAD' state. You can look around, make experimental\n",
      "changes and commit them, and you can discard any commits you make in this\n",
      "state without impacting any branches by switching back to a branch.\n",
      "\n",
      "If you want to create a new branch to retain commits you create, you may\n",
      "do so (now or later) by using -c with the switch command. Example:\n",
      "\n",
      "  git switch -c <new-branch-name>\n",
      "\n",
      "Or undo this operation with:\n",
      "\n",
      "  git switch -\n",
      "\n",
      "Turn off this advice by setting config variable advice.detachedHead to false\n",
      "\n",
      "HEAD is now at ade1d19 add titanic dataset\n"
     ]
    }
   ],
   "source": [
    "!git checkout ade1d19"
   ]
  },
  {
   "cell_type": "code",
   "execution_count": 31,
   "id": "c6980dd1-8a86-4a27-b23f-0276ee2a287e",
   "metadata": {},
   "outputs": [
    {
     "name": "stdout",
     "output_type": "stream",
     "text": [
      "Collecting                                            |1.00 [00:00,  189entry/s]\n",
      "Fetching\n",
      "!\u001b[A\n",
      "  0% Checking cache in '/home/user/Desktop/UrFU_MLOps_course/.dvc/cache/files/md\u001b[A\n",
      "Fetching                                                                        \u001b[A\n",
      "Building workspace index                              |2.00 [00:00,  846entry/s]\n",
      "Comparing indexes                                    |3.00 [00:00, 1.41kentry/s]\n",
      "Applying changes                                      |1.00 [00:00,   268file/s]\n",
      "\u001b[33mM\u001b[0m       titanic_data.csv\n",
      "1 file modified\n",
      "\u001b[0m"
     ]
    }
   ],
   "source": [
    "!dvc pull"
   ]
  },
  {
   "cell_type": "markdown",
   "id": "a4d9d74c-6653-4c8d-8cf8-185003aa719e",
   "metadata": {},
   "source": [
    "Видно, что это исходный датасет и в нём нет изменений"
   ]
  },
  {
   "cell_type": "code",
   "execution_count": 33,
   "id": "1e347fe2-87d0-4d49-a6a2-ad736e45950f",
   "metadata": {},
   "outputs": [
    {
     "data": {
      "text/html": [
       "<div>\n",
       "<style scoped>\n",
       "    .dataframe tbody tr th:only-of-type {\n",
       "        vertical-align: middle;\n",
       "    }\n",
       "\n",
       "    .dataframe tbody tr th {\n",
       "        vertical-align: top;\n",
       "    }\n",
       "\n",
       "    .dataframe thead th {\n",
       "        text-align: right;\n",
       "    }\n",
       "</style>\n",
       "<table border=\"1\" class=\"dataframe\">\n",
       "  <thead>\n",
       "    <tr style=\"text-align: right;\">\n",
       "      <th></th>\n",
       "      <th>Pclass</th>\n",
       "      <th>Sex</th>\n",
       "      <th>Age</th>\n",
       "    </tr>\n",
       "  </thead>\n",
       "  <tbody>\n",
       "    <tr>\n",
       "      <th>269</th>\n",
       "      <td>1</td>\n",
       "      <td>female</td>\n",
       "      <td>35.0</td>\n",
       "    </tr>\n",
       "    <tr>\n",
       "      <th>147</th>\n",
       "      <td>3</td>\n",
       "      <td>male</td>\n",
       "      <td>22.0</td>\n",
       "    </tr>\n",
       "    <tr>\n",
       "      <th>241</th>\n",
       "      <td>2</td>\n",
       "      <td>female</td>\n",
       "      <td>45.0</td>\n",
       "    </tr>\n",
       "    <tr>\n",
       "      <th>757</th>\n",
       "      <td>2</td>\n",
       "      <td>male</td>\n",
       "      <td>18.0</td>\n",
       "    </tr>\n",
       "    <tr>\n",
       "      <th>388</th>\n",
       "      <td>3</td>\n",
       "      <td>male</td>\n",
       "      <td>21.0</td>\n",
       "    </tr>\n",
       "  </tbody>\n",
       "</table>\n",
       "</div>"
      ],
      "text/plain": [
       "     Pclass     Sex   Age\n",
       "269       1  female  35.0\n",
       "147       3    male  22.0\n",
       "241       2  female  45.0\n",
       "757       2    male  18.0\n",
       "388       3    male  21.0"
      ]
     },
     "metadata": {},
     "output_type": "display_data"
    },
    {
     "data": {
      "text/plain": [
       "263"
      ]
     },
     "execution_count": 33,
     "metadata": {},
     "output_type": "execute_result"
    }
   ],
   "source": [
    "display(pd.read_csv('titanic_data.csv', index_col=0).sample(5))\n",
    "pd.read_csv('titanic_data.csv', index_col=0)['Age'].isna().sum()"
   ]
  },
  {
   "cell_type": "markdown",
   "id": "2c6eda93-6210-4b9a-9f5c-f0649078e9ae",
   "metadata": {},
   "source": [
    "Переключимся по другим коммитам"
   ]
  },
  {
   "cell_type": "code",
   "execution_count": 34,
   "id": "280ec1bf-47c3-43d7-b5dc-9215b1b003fb",
   "metadata": {},
   "outputs": [
    {
     "name": "stdout",
     "output_type": "stream",
     "text": [
      "Previous HEAD position was ade1d19 add titanic dataset\n",
      "HEAD is now at a215c0d fill NA in Age with mean\n",
      "Collecting                                            |1.00 [00:00,  203entry/s]\n",
      "Fetching\n",
      "!\u001b[A\n",
      "  0% Checking cache in '/home/user/Desktop/UrFU_MLOps_course/.dvc/cache/files/md\u001b[A\n",
      "Fetching                                                                        \u001b[A\n",
      "Building workspace index                              |2.00 [00:00,  858entry/s]\n",
      "Comparing indexes                                    |3.00 [00:00, 1.49kentry/s]\n",
      "Applying changes                                      |1.00 [00:00,   270file/s]\n",
      "\u001b[33mM\u001b[0m       titanic_data.csv\n",
      "1 file modified\n",
      "\u001b[0m"
     ]
    }
   ],
   "source": [
    "!git checkout a215c0d \n",
    "!dvc pull"
   ]
  },
  {
   "cell_type": "markdown",
   "id": "30dec780-54a3-4416-b316-22218c25e2dc",
   "metadata": {},
   "source": [
    "Здесь пустых Age нет"
   ]
  },
  {
   "cell_type": "code",
   "execution_count": 35,
   "id": "a78852dc-d919-4c31-a0a6-68e3036a0286",
   "metadata": {},
   "outputs": [
    {
     "data": {
      "text/html": [
       "<div>\n",
       "<style scoped>\n",
       "    .dataframe tbody tr th:only-of-type {\n",
       "        vertical-align: middle;\n",
       "    }\n",
       "\n",
       "    .dataframe tbody tr th {\n",
       "        vertical-align: top;\n",
       "    }\n",
       "\n",
       "    .dataframe thead th {\n",
       "        text-align: right;\n",
       "    }\n",
       "</style>\n",
       "<table border=\"1\" class=\"dataframe\">\n",
       "  <thead>\n",
       "    <tr style=\"text-align: right;\">\n",
       "      <th></th>\n",
       "      <th>Pclass</th>\n",
       "      <th>Sex</th>\n",
       "      <th>Age</th>\n",
       "    </tr>\n",
       "  </thead>\n",
       "  <tbody>\n",
       "    <tr>\n",
       "      <th>97</th>\n",
       "      <td>1</td>\n",
       "      <td>male</td>\n",
       "      <td>23.000000</td>\n",
       "    </tr>\n",
       "    <tr>\n",
       "      <th>129</th>\n",
       "      <td>3</td>\n",
       "      <td>male</td>\n",
       "      <td>24.000000</td>\n",
       "    </tr>\n",
       "    <tr>\n",
       "      <th>60</th>\n",
       "      <td>3</td>\n",
       "      <td>male</td>\n",
       "      <td>22.000000</td>\n",
       "    </tr>\n",
       "    <tr>\n",
       "      <th>286</th>\n",
       "      <td>3</td>\n",
       "      <td>male</td>\n",
       "      <td>29.881138</td>\n",
       "    </tr>\n",
       "    <tr>\n",
       "      <th>774</th>\n",
       "      <td>2</td>\n",
       "      <td>female</td>\n",
       "      <td>54.000000</td>\n",
       "    </tr>\n",
       "  </tbody>\n",
       "</table>\n",
       "</div>"
      ],
      "text/plain": [
       "     Pclass     Sex        Age\n",
       "97        1    male  23.000000\n",
       "129       3    male  24.000000\n",
       "60        3    male  22.000000\n",
       "286       3    male  29.881138\n",
       "774       2  female  54.000000"
      ]
     },
     "metadata": {},
     "output_type": "display_data"
    },
    {
     "data": {
      "text/plain": [
       "0"
      ]
     },
     "execution_count": 35,
     "metadata": {},
     "output_type": "execute_result"
    }
   ],
   "source": [
    "display(pd.read_csv('titanic_data.csv', index_col=0).sample(5))\n",
    "pd.read_csv('titanic_data.csv', index_col=0)['Age'].isna().sum()"
   ]
  },
  {
   "cell_type": "markdown",
   "id": "ccaf9a98-61d7-4b6e-93fb-2b16d184a938",
   "metadata": {},
   "source": [
    "Вернёмся к последнему коммиту"
   ]
  },
  {
   "cell_type": "code",
   "execution_count": 38,
   "id": "557e1ecb-0ebc-4f88-868a-b57de24d7af6",
   "metadata": {},
   "outputs": [
    {
     "name": "stdout",
     "output_type": "stream",
     "text": [
      "Previous HEAD position was a215c0d fill NA in Age with mean\n",
      "HEAD is now at 81eec0a delete dvc notebook from git\n",
      "Collecting                                            |1.00 [00:00,  195entry/s]\n",
      "Fetching\n",
      "!\u001b[A\n",
      "  0% Checking cache in '/home/user/Desktop/UrFU_MLOps_course/.dvc/cache/files/md\u001b[A\n",
      "Fetching                                                                        \u001b[A\n",
      "Building workspace index                              |2.00 [00:00,  858entry/s]\n",
      "Comparing indexes                                    |3.00 [00:00, 1.48kentry/s]\n",
      "Applying changes                                      |1.00 [00:00,   272file/s]\n",
      "\u001b[33mM\u001b[0m       titanic_data.csv\n",
      "1 file modified\n",
      "\u001b[0m"
     ]
    }
   ],
   "source": [
    "!git checkout 81eec0a \n",
    "!dvc pull"
   ]
  },
  {
   "cell_type": "code",
   "execution_count": 39,
   "id": "29b18310-c552-41a4-b271-d5a16b6752f9",
   "metadata": {},
   "outputs": [
    {
     "data": {
      "text/html": [
       "<div>\n",
       "<style scoped>\n",
       "    .dataframe tbody tr th:only-of-type {\n",
       "        vertical-align: middle;\n",
       "    }\n",
       "\n",
       "    .dataframe tbody tr th {\n",
       "        vertical-align: top;\n",
       "    }\n",
       "\n",
       "    .dataframe thead th {\n",
       "        text-align: right;\n",
       "    }\n",
       "</style>\n",
       "<table border=\"1\" class=\"dataframe\">\n",
       "  <thead>\n",
       "    <tr style=\"text-align: right;\">\n",
       "      <th></th>\n",
       "      <th>Pclass</th>\n",
       "      <th>Age</th>\n",
       "      <th>Sex_female</th>\n",
       "      <th>Sex_male</th>\n",
       "    </tr>\n",
       "  </thead>\n",
       "  <tbody>\n",
       "    <tr>\n",
       "      <th>407</th>\n",
       "      <td>1</td>\n",
       "      <td>50.000000</td>\n",
       "      <td>False</td>\n",
       "      <td>True</td>\n",
       "    </tr>\n",
       "    <tr>\n",
       "      <th>358</th>\n",
       "      <td>3</td>\n",
       "      <td>29.881138</td>\n",
       "      <td>False</td>\n",
       "      <td>True</td>\n",
       "    </tr>\n",
       "    <tr>\n",
       "      <th>764</th>\n",
       "      <td>3</td>\n",
       "      <td>16.000000</td>\n",
       "      <td>False</td>\n",
       "      <td>True</td>\n",
       "    </tr>\n",
       "    <tr>\n",
       "      <th>67</th>\n",
       "      <td>1</td>\n",
       "      <td>47.000000</td>\n",
       "      <td>False</td>\n",
       "      <td>True</td>\n",
       "    </tr>\n",
       "    <tr>\n",
       "      <th>406</th>\n",
       "      <td>3</td>\n",
       "      <td>51.000000</td>\n",
       "      <td>False</td>\n",
       "      <td>True</td>\n",
       "    </tr>\n",
       "  </tbody>\n",
       "</table>\n",
       "</div>"
      ],
      "text/plain": [
       "     Pclass        Age  Sex_female  Sex_male\n",
       "407       1  50.000000       False      True\n",
       "358       3  29.881138       False      True\n",
       "764       3  16.000000       False      True\n",
       "67        1  47.000000       False      True\n",
       "406       3  51.000000       False      True"
      ]
     },
     "metadata": {},
     "output_type": "display_data"
    },
    {
     "data": {
      "text/plain": [
       "0"
      ]
     },
     "execution_count": 39,
     "metadata": {},
     "output_type": "execute_result"
    }
   ],
   "source": [
    "display(pd.read_csv('titanic_data.csv', index_col=0).sample(5))\n",
    "pd.read_csv('titanic_data.csv', index_col=0)['Age'].isna().sum()"
   ]
  },
  {
   "cell_type": "code",
   "execution_count": 41,
   "id": "198bebbd-848b-4e35-bc49-8d8c5e6fc9e9",
   "metadata": {},
   "outputs": [
    {
     "name": "stdout",
     "output_type": "stream",
     "text": [
      "\u001b[31mHEAD detached at \u001b[m81eec0a\n",
      "Untracked files:\n",
      "  (use \"git add <file>...\" to include in what will be committed)\n",
      "\t\u001b[31mlab4_dvc.ipynb\u001b[m\n",
      "\n",
      "nothing added to commit but untracked files present (use \"git add\" to track)\n"
     ]
    }
   ],
   "source": [
    "!git add lab4_dvc.ipynb\n",
    "!git commit -m \"add lab4_dvc notebook\""
   ]
  },
  {
   "cell_type": "code",
   "execution_count": 40,
   "id": "b23d47b4-cb04-454a-bcb6-40f121ba45a7",
   "metadata": {},
   "outputs": [
    {
     "name": "stdout",
     "output_type": "stream",
     "text": [
      "Data and pipelines are up to date.                                              \n",
      "\u001b[0m"
     ]
    }
   ],
   "source": [
    "!dvc status"
   ]
  }
 ],
 "metadata": {
  "kernelspec": {
   "display_name": "Python 3 (ipykernel)",
   "language": "python",
   "name": "python3"
  },
  "language_info": {
   "codemirror_mode": {
    "name": "ipython",
    "version": 3
   },
   "file_extension": ".py",
   "mimetype": "text/x-python",
   "name": "python",
   "nbconvert_exporter": "python",
   "pygments_lexer": "ipython3",
   "version": "3.10.12"
  }
 },
 "nbformat": 4,
 "nbformat_minor": 5
}
